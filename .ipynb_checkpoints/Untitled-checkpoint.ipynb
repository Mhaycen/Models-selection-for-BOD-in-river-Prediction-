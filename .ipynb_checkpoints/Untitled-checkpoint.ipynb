{
 "cells": [
  {
   "cell_type": "code",
   "execution_count": 1,
   "metadata": {},
   "outputs": [],
   "source": [
    "#test\n",
    "import pandas as pd \n",
    "import numpy as np \n",
    "import matplotlib.pyplot as plt \n",
    "import seaborn as sns \n",
    "from pandas_profiling import ProfileReport as PR\n",
    "\n",
    "%matplotlib inline"
   ]
  },
  {
   "cell_type": "code",
   "execution_count": 2,
   "metadata": {},
   "outputs": [],
   "source": [
    "# model tuning\n",
    "from hyperopt import STATUS_OK, Trials, fmin, hp, tpe, space_eval"
   ]
  },
  {
   "cell_type": "code",
   "execution_count": 3,
   "metadata": {},
   "outputs": [],
   "source": [
    "train = pd.read_csv(\"./prediction-bod-in-river-water/train.csv\")"
   ]
  },
  {
   "cell_type": "code",
   "execution_count": 4,
   "metadata": {},
   "outputs": [
    {
     "data": {
      "text/html": [
       "<div>\n",
       "<style scoped>\n",
       "    .dataframe tbody tr th:only-of-type {\n",
       "        vertical-align: middle;\n",
       "    }\n",
       "\n",
       "    .dataframe tbody tr th {\n",
       "        vertical-align: top;\n",
       "    }\n",
       "\n",
       "    .dataframe thead th {\n",
       "        text-align: right;\n",
       "    }\n",
       "</style>\n",
       "<table border=\"1\" class=\"dataframe\">\n",
       "  <thead>\n",
       "    <tr style=\"text-align: right;\">\n",
       "      <th></th>\n",
       "      <th>Id</th>\n",
       "      <th>target</th>\n",
       "      <th>1</th>\n",
       "      <th>2</th>\n",
       "      <th>3</th>\n",
       "      <th>4</th>\n",
       "      <th>5</th>\n",
       "      <th>6</th>\n",
       "      <th>7</th>\n",
       "    </tr>\n",
       "  </thead>\n",
       "  <tbody>\n",
       "    <tr>\n",
       "      <th>0</th>\n",
       "      <td>0</td>\n",
       "      <td>5.85</td>\n",
       "      <td>4.80</td>\n",
       "      <td>5.85</td>\n",
       "      <td>NaN</td>\n",
       "      <td>NaN</td>\n",
       "      <td>NaN</td>\n",
       "      <td>NaN</td>\n",
       "      <td>NaN</td>\n",
       "    </tr>\n",
       "    <tr>\n",
       "      <th>1</th>\n",
       "      <td>3</td>\n",
       "      <td>4.28</td>\n",
       "      <td>5.88</td>\n",
       "      <td>6.84</td>\n",
       "      <td>NaN</td>\n",
       "      <td>NaN</td>\n",
       "      <td>NaN</td>\n",
       "      <td>NaN</td>\n",
       "      <td>NaN</td>\n",
       "    </tr>\n",
       "    <tr>\n",
       "      <th>2</th>\n",
       "      <td>4</td>\n",
       "      <td>3.97</td>\n",
       "      <td>3.20</td>\n",
       "      <td>2.70</td>\n",
       "      <td>NaN</td>\n",
       "      <td>NaN</td>\n",
       "      <td>NaN</td>\n",
       "      <td>NaN</td>\n",
       "      <td>NaN</td>\n",
       "    </tr>\n",
       "    <tr>\n",
       "      <th>3</th>\n",
       "      <td>5</td>\n",
       "      <td>5.95</td>\n",
       "      <td>7.70</td>\n",
       "      <td>7.06</td>\n",
       "      <td>NaN</td>\n",
       "      <td>NaN</td>\n",
       "      <td>NaN</td>\n",
       "      <td>NaN</td>\n",
       "      <td>NaN</td>\n",
       "    </tr>\n",
       "    <tr>\n",
       "      <th>4</th>\n",
       "      <td>6</td>\n",
       "      <td>4.70</td>\n",
       "      <td>5.50</td>\n",
       "      <td>5.30</td>\n",
       "      <td>NaN</td>\n",
       "      <td>NaN</td>\n",
       "      <td>NaN</td>\n",
       "      <td>NaN</td>\n",
       "      <td>NaN</td>\n",
       "    </tr>\n",
       "  </tbody>\n",
       "</table>\n",
       "</div>"
      ],
      "text/plain": [
       "   Id  target     1     2   3   4   5   6   7\n",
       "0   0    5.85  4.80  5.85 NaN NaN NaN NaN NaN\n",
       "1   3    4.28  5.88  6.84 NaN NaN NaN NaN NaN\n",
       "2   4    3.97  3.20  2.70 NaN NaN NaN NaN NaN\n",
       "3   5    5.95  7.70  7.06 NaN NaN NaN NaN NaN\n",
       "4   6    4.70  5.50  5.30 NaN NaN NaN NaN NaN"
      ]
     },
     "execution_count": 4,
     "metadata": {},
     "output_type": "execute_result"
    }
   ],
   "source": [
    "train.head()"
   ]
  },
  {
   "cell_type": "code",
   "execution_count": 5,
   "metadata": {},
   "outputs": [],
   "source": [
    "test = pd.read_csv(\"./prediction-bod-in-river-water/test.csv\")"
   ]
  },
  {
   "cell_type": "code",
   "execution_count": 6,
   "metadata": {},
   "outputs": [
    {
     "data": {
      "text/html": [
       "<div>\n",
       "<style scoped>\n",
       "    .dataframe tbody tr th:only-of-type {\n",
       "        vertical-align: middle;\n",
       "    }\n",
       "\n",
       "    .dataframe tbody tr th {\n",
       "        vertical-align: top;\n",
       "    }\n",
       "\n",
       "    .dataframe thead th {\n",
       "        text-align: right;\n",
       "    }\n",
       "</style>\n",
       "<table border=\"1\" class=\"dataframe\">\n",
       "  <thead>\n",
       "    <tr style=\"text-align: right;\">\n",
       "      <th></th>\n",
       "      <th>Id</th>\n",
       "      <th>1</th>\n",
       "      <th>2</th>\n",
       "      <th>3</th>\n",
       "      <th>4</th>\n",
       "      <th>5</th>\n",
       "      <th>6</th>\n",
       "      <th>7</th>\n",
       "    </tr>\n",
       "  </thead>\n",
       "  <tbody>\n",
       "    <tr>\n",
       "      <th>0</th>\n",
       "      <td>1</td>\n",
       "      <td>6.80</td>\n",
       "      <td>5.40</td>\n",
       "      <td>NaN</td>\n",
       "      <td>NaN</td>\n",
       "      <td>NaN</td>\n",
       "      <td>NaN</td>\n",
       "      <td>NaN</td>\n",
       "    </tr>\n",
       "    <tr>\n",
       "      <th>1</th>\n",
       "      <td>2</td>\n",
       "      <td>4.71</td>\n",
       "      <td>4.20</td>\n",
       "      <td>NaN</td>\n",
       "      <td>NaN</td>\n",
       "      <td>NaN</td>\n",
       "      <td>NaN</td>\n",
       "      <td>NaN</td>\n",
       "    </tr>\n",
       "    <tr>\n",
       "      <th>2</th>\n",
       "      <td>32</td>\n",
       "      <td>2.10</td>\n",
       "      <td>3.40</td>\n",
       "      <td>NaN</td>\n",
       "      <td>NaN</td>\n",
       "      <td>NaN</td>\n",
       "      <td>NaN</td>\n",
       "      <td>NaN</td>\n",
       "    </tr>\n",
       "    <tr>\n",
       "      <th>3</th>\n",
       "      <td>40</td>\n",
       "      <td>5.35</td>\n",
       "      <td>5.85</td>\n",
       "      <td>NaN</td>\n",
       "      <td>NaN</td>\n",
       "      <td>NaN</td>\n",
       "      <td>NaN</td>\n",
       "      <td>NaN</td>\n",
       "    </tr>\n",
       "    <tr>\n",
       "      <th>4</th>\n",
       "      <td>43</td>\n",
       "      <td>4.80</td>\n",
       "      <td>5.30</td>\n",
       "      <td>NaN</td>\n",
       "      <td>NaN</td>\n",
       "      <td>NaN</td>\n",
       "      <td>NaN</td>\n",
       "      <td>NaN</td>\n",
       "    </tr>\n",
       "  </tbody>\n",
       "</table>\n",
       "</div>"
      ],
      "text/plain": [
       "   Id     1     2   3   4   5   6   7\n",
       "0   1  6.80  5.40 NaN NaN NaN NaN NaN\n",
       "1   2  4.71  4.20 NaN NaN NaN NaN NaN\n",
       "2  32  2.10  3.40 NaN NaN NaN NaN NaN\n",
       "3  40  5.35  5.85 NaN NaN NaN NaN NaN\n",
       "4  43  4.80  5.30 NaN NaN NaN NaN NaN"
      ]
     },
     "execution_count": 6,
     "metadata": {},
     "output_type": "execute_result"
    }
   ],
   "source": [
    "test.head()"
   ]
  },
  {
   "cell_type": "code",
   "execution_count": null,
   "metadata": {},
   "outputs": [],
   "source": [
    "train_report = PR(train, minimal=False) "
   ]
  },
  {
   "cell_type": "code",
   "execution_count": null,
   "metadata": {},
   "outputs": [],
   "source": [
    "test_report = PR(test, minimal=False)"
   ]
  },
  {
   "cell_type": "code",
   "execution_count": null,
   "metadata": {},
   "outputs": [],
   "source": [
    "train_report.to_widgets()\n",
    "test_report.to_widgets()"
   ]
  },
  {
   "cell_type": "code",
   "execution_count": null,
   "metadata": {},
   "outputs": [],
   "source": [
    "train_report.to_file(\"Train_Report.html\")"
   ]
  },
  {
   "cell_type": "code",
   "execution_count": null,
   "metadata": {},
   "outputs": [],
   "source": [
    "test_report.to_file(\"Test_Report.html\")"
   ]
  },
  {
   "cell_type": "code",
   "execution_count": 7,
   "metadata": {},
   "outputs": [],
   "source": [
    "to_drop = [\"Id\"]+[str(i) for i in range(3,8)]\n",
    "train_t = train.drop(to_drop, axis=1)"
   ]
  },
  {
   "cell_type": "code",
   "execution_count": 8,
   "metadata": {},
   "outputs": [
    {
     "name": "stdout",
     "output_type": "stream",
     "text": [
      "<class 'pandas.core.frame.DataFrame'>\n",
      "RangeIndex: 147 entries, 0 to 146\n",
      "Data columns (total 3 columns):\n",
      "target    147 non-null float64\n",
      "1         145 non-null float64\n",
      "2         145 non-null float64\n",
      "dtypes: float64(3)\n",
      "memory usage: 3.6 KB\n"
     ]
    }
   ],
   "source": [
    "train_t.info()"
   ]
  },
  {
   "cell_type": "code",
   "execution_count": 9,
   "metadata": {},
   "outputs": [
    {
     "name": "stdout",
     "output_type": "stream",
     "text": [
      "<class 'pandas.core.frame.DataFrame'>\n",
      "Int64Index: 144 entries, 0 to 146\n",
      "Data columns (total 3 columns):\n",
      "target    144 non-null float64\n",
      "1         144 non-null float64\n",
      "2         144 non-null float64\n",
      "dtypes: float64(3)\n",
      "memory usage: 4.5 KB\n"
     ]
    }
   ],
   "source": [
    "train_t = train_t.dropna()\n",
    "train_t.info()"
   ]
  },
  {
   "cell_type": "code",
   "execution_count": 10,
   "metadata": {},
   "outputs": [
    {
     "data": {
      "text/html": [
       "<div>\n",
       "<style scoped>\n",
       "    .dataframe tbody tr th:only-of-type {\n",
       "        vertical-align: middle;\n",
       "    }\n",
       "\n",
       "    .dataframe tbody tr th {\n",
       "        vertical-align: top;\n",
       "    }\n",
       "\n",
       "    .dataframe thead th {\n",
       "        text-align: right;\n",
       "    }\n",
       "</style>\n",
       "<table border=\"1\" class=\"dataframe\">\n",
       "  <thead>\n",
       "    <tr style=\"text-align: right;\">\n",
       "      <th></th>\n",
       "      <th>target</th>\n",
       "      <th>1</th>\n",
       "      <th>2</th>\n",
       "    </tr>\n",
       "  </thead>\n",
       "  <tbody>\n",
       "    <tr>\n",
       "      <th>0</th>\n",
       "      <td>5.85</td>\n",
       "      <td>4.80</td>\n",
       "      <td>5.85</td>\n",
       "    </tr>\n",
       "    <tr>\n",
       "      <th>1</th>\n",
       "      <td>4.28</td>\n",
       "      <td>5.88</td>\n",
       "      <td>6.84</td>\n",
       "    </tr>\n",
       "    <tr>\n",
       "      <th>2</th>\n",
       "      <td>3.97</td>\n",
       "      <td>3.20</td>\n",
       "      <td>2.70</td>\n",
       "    </tr>\n",
       "    <tr>\n",
       "      <th>3</th>\n",
       "      <td>5.95</td>\n",
       "      <td>7.70</td>\n",
       "      <td>7.06</td>\n",
       "    </tr>\n",
       "    <tr>\n",
       "      <th>4</th>\n",
       "      <td>4.70</td>\n",
       "      <td>5.50</td>\n",
       "      <td>5.30</td>\n",
       "    </tr>\n",
       "  </tbody>\n",
       "</table>\n",
       "</div>"
      ],
      "text/plain": [
       "   target     1     2\n",
       "0    5.85  4.80  5.85\n",
       "1    4.28  5.88  6.84\n",
       "2    3.97  3.20  2.70\n",
       "3    5.95  7.70  7.06\n",
       "4    4.70  5.50  5.30"
      ]
     },
     "execution_count": 10,
     "metadata": {},
     "output_type": "execute_result"
    }
   ],
   "source": [
    "train_t.head()"
   ]
  },
  {
   "cell_type": "code",
   "execution_count": 11,
   "metadata": {},
   "outputs": [],
   "source": [
    "# preprocessing\n",
    "from sklearn.preprocessing import LabelEncoder, StandardScaler\n",
    "from sklearn.model_selection import train_test_split, cross_val_score, GridSearchCV, StratifiedKFold"
   ]
  },
  {
   "cell_type": "code",
   "execution_count": 12,
   "metadata": {},
   "outputs": [],
   "source": [
    "target = train_t[\"target\"]\n",
    "features = train_t.drop(\"target\", axis=1)\n",
    "SS = StandardScaler()\n",
    "features = pd.DataFrame(SS.fit_transform(features), columns= features.columns)"
   ]
  },
  {
   "cell_type": "code",
   "execution_count": 13,
   "metadata": {},
   "outputs": [
    {
     "data": {
      "text/html": [
       "<div>\n",
       "<style scoped>\n",
       "    .dataframe tbody tr th:only-of-type {\n",
       "        vertical-align: middle;\n",
       "    }\n",
       "\n",
       "    .dataframe tbody tr th {\n",
       "        vertical-align: top;\n",
       "    }\n",
       "\n",
       "    .dataframe thead th {\n",
       "        text-align: right;\n",
       "    }\n",
       "</style>\n",
       "<table border=\"1\" class=\"dataframe\">\n",
       "  <thead>\n",
       "    <tr style=\"text-align: right;\">\n",
       "      <th></th>\n",
       "      <th>1</th>\n",
       "      <th>2</th>\n",
       "    </tr>\n",
       "  </thead>\n",
       "  <tbody>\n",
       "    <tr>\n",
       "      <th>0</th>\n",
       "      <td>-0.085038</td>\n",
       "      <td>0.464653</td>\n",
       "    </tr>\n",
       "    <tr>\n",
       "      <th>1</th>\n",
       "      <td>0.443331</td>\n",
       "      <td>0.963267</td>\n",
       "    </tr>\n",
       "    <tr>\n",
       "      <th>2</th>\n",
       "      <td>-0.867807</td>\n",
       "      <td>-1.121847</td>\n",
       "    </tr>\n",
       "    <tr>\n",
       "      <th>3</th>\n",
       "      <td>1.333732</td>\n",
       "      <td>1.074070</td>\n",
       "    </tr>\n",
       "    <tr>\n",
       "      <th>4</th>\n",
       "      <td>0.257424</td>\n",
       "      <td>0.187645</td>\n",
       "    </tr>\n",
       "  </tbody>\n",
       "</table>\n",
       "</div>"
      ],
      "text/plain": [
       "          1         2\n",
       "0 -0.085038  0.464653\n",
       "1  0.443331  0.963267\n",
       "2 -0.867807 -1.121847\n",
       "3  1.333732  1.074070\n",
       "4  0.257424  0.187645"
      ]
     },
     "execution_count": 13,
     "metadata": {},
     "output_type": "execute_result"
    }
   ],
   "source": [
    "features.head()"
   ]
  },
  {
   "cell_type": "code",
   "execution_count": 14,
   "metadata": {},
   "outputs": [],
   "source": [
    "train_f, vald_f, train_target, vald_target = train_test_split(features, target, test_size=0.3, random_state=0)"
   ]
  },
  {
   "cell_type": "code",
   "execution_count": 15,
   "metadata": {},
   "outputs": [],
   "source": [
    "# we ll be evaluating models performance using RMSE and R-squired matrics for validation set\n",
    "acc_rmse_list = []\n",
    "acc_r2_list = []"
   ]
  },
  {
   "cell_type": "code",
   "execution_count": 16,
   "metadata": {},
   "outputs": [],
   "source": [
    "from sklearn.metrics import r2_score, mean_squared_error"
   ]
  },
  {
   "cell_type": "code",
   "execution_count": 17,
   "metadata": {},
   "outputs": [],
   "source": [
    "# RMSE between predicted y_pred and measured y_meas values\n",
    "def acc_rmse(y_meas, y_pred):\n",
    "    x = mean_squared_error(y_meas, y_pred)**0.5\n",
    "    return round(x*100, 2)"
   ]
  },
  {
   "cell_type": "code",
   "execution_count": 18,
   "metadata": {},
   "outputs": [],
   "source": [
    "#r2 represent the amount of variace explined by the two features\n",
    "def acc_r2(y_meas, y_pred):\n",
    "    x = r2_score(y_meas, y_pred)\n",
    "    return round(x*100, 2)"
   ]
  },
  {
   "cell_type": "code",
   "execution_count": 42,
   "metadata": {},
   "outputs": [],
   "source": [
    "def acc_model(model, validation_set= vald_f ,num_iteration= 0.0):\n",
    "    \n",
    "    global Results\n",
    "    global vald_target\n",
    "    global acc_rmse_list, acc_r2_list \n",
    "    \n",
    "    if num_iteration > 0:  \n",
    "        y_vald = model.predict(validation_set, num_iteration = num_iteration)\n",
    "    else:  \n",
    "        y_vald = model.predict(validation_set)\n",
    "        \n",
    "    m_acc_rmse = acc_rmse(vald_target, y_vald)\n",
    "    m_acc_r2 = acc_r2(vald_target, y_vald)\n",
    "    \n",
    "    print(\"rmse for validation set is: \", m_acc_rmse)\n",
    "    print(\"r2 score for validation set is: \", m_acc_r2)\n",
    "    \n",
    "    acc_rmse_list.append(m_acc_rmse)\n",
    "    acc_r2_list.append(m_acc_r2)\n",
    "    "
   ]
  },
  {
   "cell_type": "code",
   "execution_count": 20,
   "metadata": {},
   "outputs": [
    {
     "name": "stdout",
     "output_type": "stream",
     "text": [
      "rmse for validation set is:  138.13\n",
      "r2 score for validation set is:  54.23\n"
     ]
    }
   ],
   "source": [
    "# Linear Regression\n",
    "from sklearn.linear_model import LinearRegression\n",
    "\n",
    "linreg = LinearRegression()\n",
    "linreg.fit(train_f, train_target)\n",
    "acc_model(linreg)"
   ]
  },
  {
   "cell_type": "code",
   "execution_count": 21,
   "metadata": {},
   "outputs": [
    {
     "name": "stdout",
     "output_type": "stream",
     "text": [
      "rmse for validation set is:  145.53\n",
      "r2 score for validation set is:  49.2\n"
     ]
    }
   ],
   "source": [
    "# Support Vector Machines\n",
    "from sklearn.svm import SVR\n",
    "\n",
    "svr = SVR()\n",
    "svr.fit(train_f, train_target)\n",
    "acc_model(svr)"
   ]
  },
  {
   "cell_type": "code",
   "execution_count": 22,
   "metadata": {},
   "outputs": [
    {
     "name": "stdout",
     "output_type": "stream",
     "text": [
      "rmse for validation set is:  143.77\n",
      "r2 score for validation set is:  50.42\n"
     ]
    }
   ],
   "source": [
    "# Linear SVR\n",
    "from sklearn.svm import LinearSVR\n",
    "\n",
    "linear_svr = LinearSVR()\n",
    "linear_svr.fit(train_f, train_target)\n",
    "acc_model(linear_svr)"
   ]
  },
  {
   "cell_type": "code",
   "execution_count": 23,
   "metadata": {},
   "outputs": [
    {
     "name": "stdout",
     "output_type": "stream",
     "text": [
      "Fitting 10 folds for each of 18 candidates, totalling 180 fits\n"
     ]
    },
    {
     "name": "stderr",
     "output_type": "stream",
     "text": [
      "[Parallel(n_jobs=1)]: Using backend SequentialBackend with 1 concurrent workers.\n"
     ]
    },
    {
     "name": "stdout",
     "output_type": "stream",
     "text": [
      "rmse for validation set is:  253.97\n",
      "r2 score for validation set is:  -54.71\n"
     ]
    },
    {
     "name": "stderr",
     "output_type": "stream",
     "text": [
      "[Parallel(n_jobs=1)]: Done 180 out of 180 | elapsed:   35.7s finished\n"
     ]
    }
   ],
   "source": [
    "# MLPRegressor\n",
    "from sklearn.neural_network import MLPRegressor\n",
    "\n",
    "mlp = MLPRegressor()\n",
    "param_grid = {'hidden_layer_sizes': [i for i in range(2,20)],\n",
    "              'activation': ['relu'],\n",
    "              'solver': ['adam'],\n",
    "              'learning_rate': ['constant'],\n",
    "              'learning_rate_init': [0.01],\n",
    "              'power_t': [0.5],\n",
    "              'alpha': [0.0001],\n",
    "              'max_iter': [1000],\n",
    "              'early_stopping': [True],\n",
    "              'warm_start': [False]}\n",
    "\n",
    "mlp_GS = GridSearchCV(mlp, param_grid=param_grid, \n",
    "                   cv=10, verbose=True, pre_dispatch='2*n_jobs')\n",
    "\n",
    "mlp_GS.fit(train_f, train_target)\n",
    "acc_model(mlp_GS)"
   ]
  },
  {
   "cell_type": "code",
   "execution_count": 24,
   "metadata": {},
   "outputs": [
    {
     "name": "stdout",
     "output_type": "stream",
     "text": [
      "rmse for validation set is:  139.73\n",
      "r2 score for validation set is:  53.17\n"
     ]
    }
   ],
   "source": [
    "# Stochastic Gradient Descent\n",
    "from sklearn.linear_model import SGDRegressor\n",
    "\n",
    "sgd = SGDRegressor()\n",
    "sgd.fit(train_f, train_target)\n",
    "acc_model(sgd)"
   ]
  },
  {
   "cell_type": "code",
   "execution_count": 25,
   "metadata": {},
   "outputs": [
    {
     "name": "stdout",
     "output_type": "stream",
     "text": [
      "rmse for validation set is:  162.32\n",
      "r2 score for validation set is:  36.8\n"
     ]
    }
   ],
   "source": [
    "# Decision Tree Regression\n",
    "from sklearn.tree import DecisionTreeRegressor\n",
    "\n",
    "decision_tree = DecisionTreeRegressor()\n",
    "decision_tree.fit(train_f, train_target)\n",
    "acc_model(decision_tree)"
   ]
  },
  {
   "cell_type": "code",
   "execution_count": 26,
   "metadata": {},
   "outputs": [
    {
     "name": "stdout",
     "output_type": "stream",
     "text": [
      "{'n_estimators': 1000}\n",
      "rmse for validation set is:  162.32\n",
      "r2 score for validation set is:  36.8\n"
     ]
    }
   ],
   "source": [
    "# Random Forest\n",
    "from sklearn.ensemble import RandomForestRegressor\n",
    "\n",
    "random_forest = GridSearchCV(estimator=RandomForestRegressor(), param_grid={'n_estimators': [100, 1000]}, cv=5)\n",
    "random_forest.fit(train_f, train_target)\n",
    "print(random_forest.best_params_)\n",
    "\n",
    "acc_model(decision_tree)"
   ]
  },
  {
   "cell_type": "code",
   "execution_count": 27,
   "metadata": {},
   "outputs": [
    {
     "name": "stdout",
     "output_type": "stream",
     "text": [
      "-0.05577835416119037                                  \n",
      "{'max_depth': 8, 'n_estimators': 346}                 \n",
      "-0.03375835960717015                                                              \n",
      "{'max_depth': 7, 'n_estimators': 159}                                             \n",
      "-0.05189083964549659                                                              \n",
      "{'max_depth': 8, 'n_estimators': 417}                                             \n",
      "-0.06744634407813357                                                              \n",
      "{'max_depth': 8, 'n_estimators': 508}                                             \n",
      "-0.10967953299854302                                                              \n",
      "{'max_depth': 5, 'n_estimators': 529}                                             \n",
      "-0.0408206390791121                                                               \n",
      "{'max_depth': 7, 'n_estimators': 134}                                             \n",
      "-0.156393190828519                                                                \n",
      "{'max_depth': 3, 'n_estimators': 959}                                             \n",
      "-0.1375364108148263                                                               \n",
      "{'max_depth': 3, 'n_estimators': 449}                                           \n",
      "-0.0609621161711579                                                             \n",
      "{'max_depth': 8, 'n_estimators': 398}                                           \n",
      "-0.14476033098330615                                                            \n",
      "{'max_depth': 3, 'n_estimators': 848}                                           \n",
      "100%|██████████| 10/10 [00:16<00:00,  1.66s/trial, best loss: -0.156393190828519]\n",
      "best:\n",
      "{'max_depth': 1, 'n_estimators': 859}\n"
     ]
    }
   ],
   "source": [
    "#GradientBoostingRegressor with HyperOpt\n",
    "from sklearn.ensemble import  GradientBoostingRegressor\n",
    "\n",
    "def hyperopt_gb_score(params):\n",
    "    gbr = GradientBoostingRegressor(**params)\n",
    "    current_score = cross_val_score(gbr, train_f, train_target, cv=10).mean()\n",
    "    print(current_score, params)\n",
    "    return current_score \n",
    " \n",
    "space_gb = {\n",
    "            'n_estimators': hp.choice('n_estimators', range(100, 1000)),\n",
    "            'max_depth': hp.choice('max_depth', np.arange(2, 10, dtype=int))            \n",
    "        }\n",
    " \n",
    "best = fmin(fn=hyperopt_gb_score, space=space_gb, algo=tpe.suggest, max_evals=10)\n",
    "print('best:')\n",
    "print(best)"
   ]
  },
  {
   "cell_type": "code",
   "execution_count": 28,
   "metadata": {},
   "outputs": [
    {
     "data": {
      "text/plain": [
       "{'max_depth': 3, 'n_estimators': 959}"
      ]
     },
     "execution_count": 28,
     "metadata": {},
     "output_type": "execute_result"
    }
   ],
   "source": [
    "params = space_eval(space_gb, best)\n",
    "params\n",
    "#params[\"max_depth\"]=7 for some reason max_depth=7 gives less rmse !!!!! \n",
    "#params"
   ]
  },
  {
   "cell_type": "code",
   "execution_count": 29,
   "metadata": {},
   "outputs": [
    {
     "name": "stdout",
     "output_type": "stream",
     "text": [
      "rmse for validation set is:  188.91\n",
      "r2 score for validation set is:  14.4\n"
     ]
    }
   ],
   "source": [
    "gradient_boosting = GradientBoostingRegressor(**params)\n",
    "gradient_boosting.fit(train_f, train_target)\n",
    "acc_model(gradient_boosting)"
   ]
  },
  {
   "cell_type": "code",
   "execution_count": 30,
   "metadata": {},
   "outputs": [
    {
     "name": "stdout",
     "output_type": "stream",
     "text": [
      "rmse for validation set is:  138.71\n",
      "r2 score for validation set is:  53.85\n"
     ]
    }
   ],
   "source": [
    "# Ridge Regressor\n",
    "from sklearn.linear_model import RidgeCV\n",
    "\n",
    "ridge = RidgeCV(cv=5)\n",
    "ridge.fit(train_f, train_target)\n",
    "acc_model(ridge)"
   ]
  },
  {
   "cell_type": "code",
   "execution_count": 31,
   "metadata": {},
   "outputs": [
    {
     "name": "stdout",
     "output_type": "stream",
     "text": [
      "rmse for validation set is:  149.21\n",
      "r2 score for validation set is:  46.6\n"
     ]
    }
   ],
   "source": [
    "# Bagging Regressor\n",
    "from sklearn.ensemble import BaggingRegressor\n",
    "\n",
    "bagging = BaggingRegressor()\n",
    "bagging.fit(train_f, train_target)\n",
    "acc_model(bagging)"
   ]
  },
  {
   "cell_type": "code",
   "execution_count": 32,
   "metadata": {},
   "outputs": [
    {
     "name": "stdout",
     "output_type": "stream",
     "text": [
      "rmse for validation set is:  167.78\n",
      "r2 score for validation set is:  32.48\n"
     ]
    }
   ],
   "source": [
    "# Extra Trees Regressor\n",
    "from sklearn.ensemble import ExtraTreesRegressor\n",
    "\n",
    "etr = ExtraTreesRegressor()\n",
    "etr.fit(train_f, train_target)\n",
    "acc_model(etr)"
   ]
  },
  {
   "cell_type": "code",
   "execution_count": 33,
   "metadata": {},
   "outputs": [
    {
     "name": "stdout",
     "output_type": "stream",
     "text": [
      "rmse for validation set is:  156.73\n",
      "r2 score for validation set is:  41.08\n"
     ]
    }
   ],
   "source": [
    "# AdaBoost Regression\n",
    "from sklearn.ensemble import AdaBoostRegressor\n",
    "\n",
    "Ada_Boost = AdaBoostRegressor()\n",
    "Ada_Boost.fit(train_f, train_target)\n",
    "acc_model(Ada_Boost)"
   ]
  },
  {
   "cell_type": "code",
   "execution_count": 34,
   "metadata": {},
   "outputs": [
    {
     "name": "stdout",
     "output_type": "stream",
     "text": [
      "rmse for validation set is:  138.8\n",
      "r2 score for validation set is:  53.79\n"
     ]
    }
   ],
   "source": [
    "#Voting Regressor\n",
    "from sklearn.ensemble import VotingRegressor\n",
    "\n",
    "Voting_Reg = VotingRegressor(estimators=[('lin', linreg), ('ridge', ridge), ('sgd', sgd)])\n",
    "Voting_Reg.fit(train_f, train_target)\n",
    "acc_model(Voting_Reg)"
   ]
  },
  {
   "cell_type": "code",
   "execution_count": 40,
   "metadata": {},
   "outputs": [],
   "source": [
    "#Light gradien boosting machine\n",
    "import lightgbm as lgb\n",
    "#split training set to validation set\n",
    "Xtrain, Xval, Ztrain, Zval = train_test_split(features, target, test_size=0.2, random_state=0)\n",
    "train_set = lgb.Dataset(Xtrain, Ztrain, silent=False)\n",
    "valid_set = lgb.Dataset(Xval, Zval, silent=False)"
   ]
  },
  {
   "cell_type": "code",
   "execution_count": 44,
   "metadata": {},
   "outputs": [
    {
     "name": "stdout",
     "output_type": "stream",
     "text": [
      "Training until validation scores don't improve for 2000 rounds\n",
      "[500]\tvalid_0's rmse: 1.65897\n",
      "[1000]\tvalid_0's rmse: 1.65897\n",
      "[1500]\tvalid_0's rmse: 1.65897\n",
      "[2000]\tvalid_0's rmse: 1.65897\n",
      "Early stopping, best iteration is:\n",
      "[177]\tvalid_0's rmse: 1.64042\n"
     ]
    }
   ],
   "source": [
    "params = {\n",
    "        'boosting_type':'gbdt',\n",
    "        'objective': 'regression',\n",
    "        'num_leaves': 31,\n",
    "        'learning_rate': 0.01,\n",
    "        'max_depth': -1,\n",
    "        'subsample': 0.8,\n",
    "        'bagging_fraction' : 1,\n",
    "        'max_bin' : 5000 ,\n",
    "        'bagging_freq': 20,\n",
    "        'colsample_bytree': 0.6,\n",
    "        'metric': 'rmse',\n",
    "        'min_split_gain': 0.5,\n",
    "        'min_child_weight': 1,\n",
    "        'min_child_samples': 10,\n",
    "        'scale_pos_weight':1,\n",
    "        'zero_as_missing': False,\n",
    "        'seed':0,        \n",
    "    }\n",
    "modelL = lgb.train(params, train_set = train_set, num_boost_round=10000,\n",
    "                   early_stopping_rounds=2000,verbose_eval=500, valid_sets=valid_set)\n",
    "\n"
   ]
  },
  {
   "cell_type": "code",
   "execution_count": 45,
   "metadata": {},
   "outputs": [
    {
     "name": "stdout",
     "output_type": "stream",
     "text": [
      "rmse for validation set is:  138.11\n",
      "r2 score for validation set is:  54.25\n"
     ]
    }
   ],
   "source": [
    "acc_model(modelL,num_iteration=modelL.best_iteration)"
   ]
  },
  {
   "cell_type": "code",
   "execution_count": 47,
   "metadata": {},
   "outputs": [],
   "source": [
    "Results = pd.DataFrame({\n",
    "    'Model': ['Linear Regression', 'Support Vector Machines', 'Linear SVR', \n",
    "              'MLPRegressor', 'Stochastic Gradient Decent', \n",
    "              'Decision Tree Regressor', 'Random Forest',\n",
    "              'GradientBoostingRegressor', 'RidgeRegressor', 'BaggingRegressor', 'ExtraTreesRegressor', \n",
    "              'AdaBoostRegressor', 'VotingRegressor','lgbm'],\n",
    "    \n",
    "    'rmse_validation': acc_rmse_list,\n",
    "    'r2_validation': acc_r2_list\n",
    "                     })"
   ]
  },
  {
   "cell_type": "code",
   "execution_count": 48,
   "metadata": {},
   "outputs": [
    {
     "data": {
      "text/html": [
       "<div>\n",
       "<style scoped>\n",
       "    .dataframe tbody tr th:only-of-type {\n",
       "        vertical-align: middle;\n",
       "    }\n",
       "\n",
       "    .dataframe tbody tr th {\n",
       "        vertical-align: top;\n",
       "    }\n",
       "\n",
       "    .dataframe thead th {\n",
       "        text-align: right;\n",
       "    }\n",
       "</style>\n",
       "<table border=\"1\" class=\"dataframe\">\n",
       "  <thead>\n",
       "    <tr style=\"text-align: right;\">\n",
       "      <th></th>\n",
       "      <th>Model</th>\n",
       "      <th>rmse_validation</th>\n",
       "      <th>r2_validation</th>\n",
       "    </tr>\n",
       "  </thead>\n",
       "  <tbody>\n",
       "    <tr>\n",
       "      <th>0</th>\n",
       "      <td>Linear Regression</td>\n",
       "      <td>138.13</td>\n",
       "      <td>54.23</td>\n",
       "    </tr>\n",
       "    <tr>\n",
       "      <th>1</th>\n",
       "      <td>Support Vector Machines</td>\n",
       "      <td>145.53</td>\n",
       "      <td>49.20</td>\n",
       "    </tr>\n",
       "    <tr>\n",
       "      <th>2</th>\n",
       "      <td>Linear SVR</td>\n",
       "      <td>143.77</td>\n",
       "      <td>50.42</td>\n",
       "    </tr>\n",
       "    <tr>\n",
       "      <th>3</th>\n",
       "      <td>MLPRegressor</td>\n",
       "      <td>253.97</td>\n",
       "      <td>-54.71</td>\n",
       "    </tr>\n",
       "    <tr>\n",
       "      <th>4</th>\n",
       "      <td>Stochastic Gradient Decent</td>\n",
       "      <td>139.73</td>\n",
       "      <td>53.17</td>\n",
       "    </tr>\n",
       "    <tr>\n",
       "      <th>5</th>\n",
       "      <td>Decision Tree Regressor</td>\n",
       "      <td>162.32</td>\n",
       "      <td>36.80</td>\n",
       "    </tr>\n",
       "    <tr>\n",
       "      <th>6</th>\n",
       "      <td>Random Forest</td>\n",
       "      <td>162.32</td>\n",
       "      <td>36.80</td>\n",
       "    </tr>\n",
       "    <tr>\n",
       "      <th>7</th>\n",
       "      <td>GradientBoostingRegressor</td>\n",
       "      <td>188.91</td>\n",
       "      <td>14.40</td>\n",
       "    </tr>\n",
       "    <tr>\n",
       "      <th>8</th>\n",
       "      <td>RidgeRegressor</td>\n",
       "      <td>138.71</td>\n",
       "      <td>53.85</td>\n",
       "    </tr>\n",
       "    <tr>\n",
       "      <th>9</th>\n",
       "      <td>BaggingRegressor</td>\n",
       "      <td>149.21</td>\n",
       "      <td>46.60</td>\n",
       "    </tr>\n",
       "    <tr>\n",
       "      <th>10</th>\n",
       "      <td>ExtraTreesRegressor</td>\n",
       "      <td>167.78</td>\n",
       "      <td>32.48</td>\n",
       "    </tr>\n",
       "    <tr>\n",
       "      <th>11</th>\n",
       "      <td>AdaBoostRegressor</td>\n",
       "      <td>156.73</td>\n",
       "      <td>41.08</td>\n",
       "    </tr>\n",
       "    <tr>\n",
       "      <th>12</th>\n",
       "      <td>VotingRegressor</td>\n",
       "      <td>138.80</td>\n",
       "      <td>53.79</td>\n",
       "    </tr>\n",
       "    <tr>\n",
       "      <th>13</th>\n",
       "      <td>lgbm</td>\n",
       "      <td>138.11</td>\n",
       "      <td>54.25</td>\n",
       "    </tr>\n",
       "  </tbody>\n",
       "</table>\n",
       "</div>"
      ],
      "text/plain": [
       "                         Model  rmse_validation  r2_validation\n",
       "0            Linear Regression           138.13          54.23\n",
       "1      Support Vector Machines           145.53          49.20\n",
       "2                   Linear SVR           143.77          50.42\n",
       "3                 MLPRegressor           253.97         -54.71\n",
       "4   Stochastic Gradient Decent           139.73          53.17\n",
       "5      Decision Tree Regressor           162.32          36.80\n",
       "6                Random Forest           162.32          36.80\n",
       "7    GradientBoostingRegressor           188.91          14.40\n",
       "8               RidgeRegressor           138.71          53.85\n",
       "9             BaggingRegressor           149.21          46.60\n",
       "10         ExtraTreesRegressor           167.78          32.48\n",
       "11           AdaBoostRegressor           156.73          41.08\n",
       "12             VotingRegressor           138.80          53.79\n",
       "13                        lgbm           138.11          54.25"
      ]
     },
     "execution_count": 48,
     "metadata": {},
     "output_type": "execute_result"
    }
   ],
   "source": [
    "Results"
   ]
  },
  {
   "cell_type": "code",
   "execution_count": 49,
   "metadata": {},
   "outputs": [
    {
     "data": {
      "text/html": [
       "<div>\n",
       "<style scoped>\n",
       "    .dataframe tbody tr th:only-of-type {\n",
       "        vertical-align: middle;\n",
       "    }\n",
       "\n",
       "    .dataframe tbody tr th {\n",
       "        vertical-align: top;\n",
       "    }\n",
       "\n",
       "    .dataframe thead th {\n",
       "        text-align: right;\n",
       "    }\n",
       "</style>\n",
       "<table border=\"1\" class=\"dataframe\">\n",
       "  <thead>\n",
       "    <tr style=\"text-align: right;\">\n",
       "      <th></th>\n",
       "      <th>Model</th>\n",
       "      <th>rmse_validation</th>\n",
       "      <th>r2_validation</th>\n",
       "    </tr>\n",
       "  </thead>\n",
       "  <tbody>\n",
       "    <tr>\n",
       "      <th>13</th>\n",
       "      <td>lgbm</td>\n",
       "      <td>138.11</td>\n",
       "      <td>54.25</td>\n",
       "    </tr>\n",
       "    <tr>\n",
       "      <th>0</th>\n",
       "      <td>Linear Regression</td>\n",
       "      <td>138.13</td>\n",
       "      <td>54.23</td>\n",
       "    </tr>\n",
       "    <tr>\n",
       "      <th>8</th>\n",
       "      <td>RidgeRegressor</td>\n",
       "      <td>138.71</td>\n",
       "      <td>53.85</td>\n",
       "    </tr>\n",
       "    <tr>\n",
       "      <th>12</th>\n",
       "      <td>VotingRegressor</td>\n",
       "      <td>138.80</td>\n",
       "      <td>53.79</td>\n",
       "    </tr>\n",
       "    <tr>\n",
       "      <th>4</th>\n",
       "      <td>Stochastic Gradient Decent</td>\n",
       "      <td>139.73</td>\n",
       "      <td>53.17</td>\n",
       "    </tr>\n",
       "    <tr>\n",
       "      <th>2</th>\n",
       "      <td>Linear SVR</td>\n",
       "      <td>143.77</td>\n",
       "      <td>50.42</td>\n",
       "    </tr>\n",
       "    <tr>\n",
       "      <th>1</th>\n",
       "      <td>Support Vector Machines</td>\n",
       "      <td>145.53</td>\n",
       "      <td>49.20</td>\n",
       "    </tr>\n",
       "    <tr>\n",
       "      <th>9</th>\n",
       "      <td>BaggingRegressor</td>\n",
       "      <td>149.21</td>\n",
       "      <td>46.60</td>\n",
       "    </tr>\n",
       "    <tr>\n",
       "      <th>11</th>\n",
       "      <td>AdaBoostRegressor</td>\n",
       "      <td>156.73</td>\n",
       "      <td>41.08</td>\n",
       "    </tr>\n",
       "    <tr>\n",
       "      <th>5</th>\n",
       "      <td>Decision Tree Regressor</td>\n",
       "      <td>162.32</td>\n",
       "      <td>36.80</td>\n",
       "    </tr>\n",
       "    <tr>\n",
       "      <th>6</th>\n",
       "      <td>Random Forest</td>\n",
       "      <td>162.32</td>\n",
       "      <td>36.80</td>\n",
       "    </tr>\n",
       "    <tr>\n",
       "      <th>10</th>\n",
       "      <td>ExtraTreesRegressor</td>\n",
       "      <td>167.78</td>\n",
       "      <td>32.48</td>\n",
       "    </tr>\n",
       "    <tr>\n",
       "      <th>7</th>\n",
       "      <td>GradientBoostingRegressor</td>\n",
       "      <td>188.91</td>\n",
       "      <td>14.40</td>\n",
       "    </tr>\n",
       "    <tr>\n",
       "      <th>3</th>\n",
       "      <td>MLPRegressor</td>\n",
       "      <td>253.97</td>\n",
       "      <td>-54.71</td>\n",
       "    </tr>\n",
       "  </tbody>\n",
       "</table>\n",
       "</div>"
      ],
      "text/plain": [
       "                         Model  rmse_validation  r2_validation\n",
       "13                        lgbm           138.11          54.25\n",
       "0            Linear Regression           138.13          54.23\n",
       "8               RidgeRegressor           138.71          53.85\n",
       "12             VotingRegressor           138.80          53.79\n",
       "4   Stochastic Gradient Decent           139.73          53.17\n",
       "2                   Linear SVR           143.77          50.42\n",
       "1      Support Vector Machines           145.53          49.20\n",
       "9             BaggingRegressor           149.21          46.60\n",
       "11           AdaBoostRegressor           156.73          41.08\n",
       "5      Decision Tree Regressor           162.32          36.80\n",
       "6                Random Forest           162.32          36.80\n",
       "10         ExtraTreesRegressor           167.78          32.48\n",
       "7    GradientBoostingRegressor           188.91          14.40\n",
       "3                 MLPRegressor           253.97         -54.71"
      ]
     },
     "execution_count": 49,
     "metadata": {},
     "output_type": "execute_result"
    }
   ],
   "source": [
    "Results.sort_values(by=['rmse_validation'], ascending=True)"
   ]
  },
  {
   "cell_type": "code",
   "execution_count": 50,
   "metadata": {},
   "outputs": [
    {
     "data": {
      "image/png": "[encoded data removed]",
      "text/plain": [
       "<Figure size 1800x432 with 1 Axes>"
      ]
     },
     "metadata": {
      "needs_background": "light"
     },
     "output_type": "display_data"
    }
   ],
   "source": [
    "plt.figure(figsize=[25,6])\n",
    "xx = Results['Model']\n",
    "plt.tick_params(labelsize=14)\n",
    "plt.plot(xx, Results['rmse_validation'], label = 'rmse for validation set')\n",
    "\n",
    "plt.legend()\n",
    "#plt.title('RMSE for 13 popular models for validation dataset')\n",
    "plt.xlabel('Models')\n",
    "plt.ylabel('RMSE x100')\n",
    "plt.xticks(xx, rotation='vertical')\n",
    "plt.savefig('graph.png')\n",
    "plt.show()"
   ]
  },
  {
   "cell_type": "markdown",
   "metadata": {},
   "source": [
    "# the top 3 best models by rmse are : lgbm, linear regression and Ridge regression"
   ]
  },
  {
   "cell_type": "code",
   "execution_count": null,
   "metadata": {},
   "outputs": [],
   "source": []
  }
 ],
 "metadata": {
  "kernelspec": {
   "display_name": "Python 3",
   "language": "python",
   "name": "python3"
  },
  "language_info": {
   "codemirror_mode": {
    "name": "ipython",
    "version": 3
   },
   "file_extension": ".py",
   "mimetype": "text/x-python",
   "name": "python",
   "nbconvert_exporter": "python",
   "pygments_lexer": "ipython3",
   "version": "3.7.3"
  }
 },
 "nbformat": 4,
 "nbformat_minor": 2
}
