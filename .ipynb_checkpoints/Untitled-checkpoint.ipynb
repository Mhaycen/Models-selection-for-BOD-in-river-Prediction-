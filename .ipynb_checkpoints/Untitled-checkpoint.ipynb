{
 "cells": [
  {
   "cell_type": "code",
   "execution_count": 1,
   "metadata": {},
   "outputs": [],
   "source": [
    "import pandas as pd \n",
    "import numpy as np \n",
    "import matplotlib.pyplot as plt \n",
    "import seaborn as sns \n",
    "from pandas_profiling import ProfileReport as PR\n",
    "\n",
    "%matplotlib inline"
   ]
  },
  {
   "cell_type": "code",
   "execution_count": 2,
   "metadata": {},
   "outputs": [],
   "source": [
    "from time import time "
   ]
  },
  {
   "cell_type": "code",
   "execution_count": 3,
   "metadata": {},
   "outputs": [],
   "source": [
    "from hyperopt import STATUS_OK, Trials, fmin, hp, tpe, space_eval"
   ]
  },
  {
   "cell_type": "code",
   "execution_count": 4,
   "metadata": {},
   "outputs": [],
   "source": [
    "train = pd.read_csv(\"./prediction-bod-in-river-water/train.csv\")"
   ]
  },
  {
   "cell_type": "code",
   "execution_count": 5,
   "metadata": {},
   "outputs": [
    {
     "data": {
      "text/html": [
       "<div>\n",
       "<style scoped>\n",
       "    .dataframe tbody tr th:only-of-type {\n",
       "        vertical-align: middle;\n",
       "    }\n",
       "\n",
       "    .dataframe tbody tr th {\n",
       "        vertical-align: top;\n",
       "    }\n",
       "\n",
       "    .dataframe thead th {\n",
       "        text-align: right;\n",
       "    }\n",
       "</style>\n",
       "<table border=\"1\" class=\"dataframe\">\n",
       "  <thead>\n",
       "    <tr style=\"text-align: right;\">\n",
       "      <th></th>\n",
       "      <th>Id</th>\n",
       "      <th>target</th>\n",
       "      <th>1</th>\n",
       "      <th>2</th>\n",
       "      <th>3</th>\n",
       "      <th>4</th>\n",
       "      <th>5</th>\n",
       "      <th>6</th>\n",
       "      <th>7</th>\n",
       "    </tr>\n",
       "  </thead>\n",
       "  <tbody>\n",
       "    <tr>\n",
       "      <th>0</th>\n",
       "      <td>0</td>\n",
       "      <td>5.85</td>\n",
       "      <td>4.80</td>\n",
       "      <td>5.85</td>\n",
       "      <td>NaN</td>\n",
       "      <td>NaN</td>\n",
       "      <td>NaN</td>\n",
       "      <td>NaN</td>\n",
       "      <td>NaN</td>\n",
       "    </tr>\n",
       "    <tr>\n",
       "      <th>1</th>\n",
       "      <td>3</td>\n",
       "      <td>4.28</td>\n",
       "      <td>5.88</td>\n",
       "      <td>6.84</td>\n",
       "      <td>NaN</td>\n",
       "      <td>NaN</td>\n",
       "      <td>NaN</td>\n",
       "      <td>NaN</td>\n",
       "      <td>NaN</td>\n",
       "    </tr>\n",
       "    <tr>\n",
       "      <th>2</th>\n",
       "      <td>4</td>\n",
       "      <td>3.97</td>\n",
       "      <td>3.20</td>\n",
       "      <td>2.70</td>\n",
       "      <td>NaN</td>\n",
       "      <td>NaN</td>\n",
       "      <td>NaN</td>\n",
       "      <td>NaN</td>\n",
       "      <td>NaN</td>\n",
       "    </tr>\n",
       "    <tr>\n",
       "      <th>3</th>\n",
       "      <td>5</td>\n",
       "      <td>5.95</td>\n",
       "      <td>7.70</td>\n",
       "      <td>7.06</td>\n",
       "      <td>NaN</td>\n",
       "      <td>NaN</td>\n",
       "      <td>NaN</td>\n",
       "      <td>NaN</td>\n",
       "      <td>NaN</td>\n",
       "    </tr>\n",
       "    <tr>\n",
       "      <th>4</th>\n",
       "      <td>6</td>\n",
       "      <td>4.70</td>\n",
       "      <td>5.50</td>\n",
       "      <td>5.30</td>\n",
       "      <td>NaN</td>\n",
       "      <td>NaN</td>\n",
       "      <td>NaN</td>\n",
       "      <td>NaN</td>\n",
       "      <td>NaN</td>\n",
       "    </tr>\n",
       "  </tbody>\n",
       "</table>\n",
       "</div>"
      ],
      "text/plain": [
       "   Id  target     1     2   3   4   5   6   7\n",
       "0   0    5.85  4.80  5.85 NaN NaN NaN NaN NaN\n",
       "1   3    4.28  5.88  6.84 NaN NaN NaN NaN NaN\n",
       "2   4    3.97  3.20  2.70 NaN NaN NaN NaN NaN\n",
       "3   5    5.95  7.70  7.06 NaN NaN NaN NaN NaN\n",
       "4   6    4.70  5.50  5.30 NaN NaN NaN NaN NaN"
      ]
     },
     "execution_count": 5,
     "metadata": {},
     "output_type": "execute_result"
    }
   ],
   "source": [
    "train.head()"
   ]
  },
  {
   "cell_type": "code",
   "execution_count": 6,
   "metadata": {},
   "outputs": [],
   "source": [
    "test = pd.read_csv(\"./prediction-bod-in-river-water/test.csv\")"
   ]
  },
  {
   "cell_type": "code",
   "execution_count": 7,
   "metadata": {},
   "outputs": [
    {
     "data": {
      "text/html": [
       "<div>\n",
       "<style scoped>\n",
       "    .dataframe tbody tr th:only-of-type {\n",
       "        vertical-align: middle;\n",
       "    }\n",
       "\n",
       "    .dataframe tbody tr th {\n",
       "        vertical-align: top;\n",
       "    }\n",
       "\n",
       "    .dataframe thead th {\n",
       "        text-align: right;\n",
       "    }\n",
       "</style>\n",
       "<table border=\"1\" class=\"dataframe\">\n",
       "  <thead>\n",
       "    <tr style=\"text-align: right;\">\n",
       "      <th></th>\n",
       "      <th>Id</th>\n",
       "      <th>1</th>\n",
       "      <th>2</th>\n",
       "      <th>3</th>\n",
       "      <th>4</th>\n",
       "      <th>5</th>\n",
       "      <th>6</th>\n",
       "      <th>7</th>\n",
       "    </tr>\n",
       "  </thead>\n",
       "  <tbody>\n",
       "    <tr>\n",
       "      <th>0</th>\n",
       "      <td>1</td>\n",
       "      <td>6.80</td>\n",
       "      <td>5.40</td>\n",
       "      <td>NaN</td>\n",
       "      <td>NaN</td>\n",
       "      <td>NaN</td>\n",
       "      <td>NaN</td>\n",
       "      <td>NaN</td>\n",
       "    </tr>\n",
       "    <tr>\n",
       "      <th>1</th>\n",
       "      <td>2</td>\n",
       "      <td>4.71</td>\n",
       "      <td>4.20</td>\n",
       "      <td>NaN</td>\n",
       "      <td>NaN</td>\n",
       "      <td>NaN</td>\n",
       "      <td>NaN</td>\n",
       "      <td>NaN</td>\n",
       "    </tr>\n",
       "    <tr>\n",
       "      <th>2</th>\n",
       "      <td>32</td>\n",
       "      <td>2.10</td>\n",
       "      <td>3.40</td>\n",
       "      <td>NaN</td>\n",
       "      <td>NaN</td>\n",
       "      <td>NaN</td>\n",
       "      <td>NaN</td>\n",
       "      <td>NaN</td>\n",
       "    </tr>\n",
       "    <tr>\n",
       "      <th>3</th>\n",
       "      <td>40</td>\n",
       "      <td>5.35</td>\n",
       "      <td>5.85</td>\n",
       "      <td>NaN</td>\n",
       "      <td>NaN</td>\n",
       "      <td>NaN</td>\n",
       "      <td>NaN</td>\n",
       "      <td>NaN</td>\n",
       "    </tr>\n",
       "    <tr>\n",
       "      <th>4</th>\n",
       "      <td>43</td>\n",
       "      <td>4.80</td>\n",
       "      <td>5.30</td>\n",
       "      <td>NaN</td>\n",
       "      <td>NaN</td>\n",
       "      <td>NaN</td>\n",
       "      <td>NaN</td>\n",
       "      <td>NaN</td>\n",
       "    </tr>\n",
       "  </tbody>\n",
       "</table>\n",
       "</div>"
      ],
      "text/plain": [
       "   Id     1     2   3   4   5   6   7\n",
       "0   1  6.80  5.40 NaN NaN NaN NaN NaN\n",
       "1   2  4.71  4.20 NaN NaN NaN NaN NaN\n",
       "2  32  2.10  3.40 NaN NaN NaN NaN NaN\n",
       "3  40  5.35  5.85 NaN NaN NaN NaN NaN\n",
       "4  43  4.80  5.30 NaN NaN NaN NaN NaN"
      ]
     },
     "execution_count": 7,
     "metadata": {},
     "output_type": "execute_result"
    }
   ],
   "source": [
    "test.head()"
   ]
  },
  {
   "cell_type": "code",
   "execution_count": 8,
   "metadata": {},
   "outputs": [
    {
     "data": {
      "application/vnd.jupyter.widget-view+json": {
       "model_id": "3f9274cbd6ca4118ac32cbafb614ad40",
       "version_major": 2,
       "version_minor": 0
      },
      "text/plain": [
       "HBox(children=(FloatProgress(value=0.0, description='variables', max=9.0, style=ProgressStyle(description_widt…"
      ]
     },
     "metadata": {},
     "output_type": "display_data"
    },
    {
     "name": "stdout",
     "output_type": "stream",
     "text": [
      "\n"
     ]
    },
    {
     "data": {
      "application/vnd.jupyter.widget-view+json": {
       "model_id": "410c4174e58f409db81ff975a1f85b80",
       "version_major": 2,
       "version_minor": 0
      },
      "text/plain": [
       "HBox(children=(FloatProgress(value=0.0, description='correlations', max=6.0, style=ProgressStyle(description_w…"
      ]
     },
     "metadata": {},
     "output_type": "display_data"
    },
    {
     "name": "stdout",
     "output_type": "stream",
     "text": [
      "\n"
     ]
    },
    {
     "data": {
      "application/vnd.jupyter.widget-view+json": {
       "model_id": "75ac6d928feb4d8f987e37dec066f50e",
       "version_major": 2,
       "version_minor": 0
      },
      "text/plain": [
       "HBox(children=(FloatProgress(value=0.0, description='interactions [continuous]', max=81.0, style=ProgressStyle…"
      ]
     },
     "metadata": {},
     "output_type": "display_data"
    },
    {
     "name": "stdout",
     "output_type": "stream",
     "text": [
      "\n"
     ]
    },
    {
     "data": {
      "application/vnd.jupyter.widget-view+json": {
       "model_id": "d04793b162b749ccbdbf1021d835acf2",
       "version_major": 2,
       "version_minor": 0
      },
      "text/plain": [
       "HBox(children=(FloatProgress(value=0.0, description='table', max=1.0, style=ProgressStyle(description_width='i…"
      ]
     },
     "metadata": {},
     "output_type": "display_data"
    },
    {
     "name": "stdout",
     "output_type": "stream",
     "text": [
      "\n"
     ]
    },
    {
     "data": {
      "application/vnd.jupyter.widget-view+json": {
       "model_id": "319a6dda454b4150add1dc621e4977e2",
       "version_major": 2,
       "version_minor": 0
      },
      "text/plain": [
       "HBox(children=(FloatProgress(value=0.0, description='missing', max=4.0, style=ProgressStyle(description_width=…"
      ]
     },
     "metadata": {},
     "output_type": "display_data"
    },
    {
     "name": "stdout",
     "output_type": "stream",
     "text": [
      "\n"
     ]
    },
    {
     "data": {
      "application/vnd.jupyter.widget-view+json": {
       "model_id": "14a22bde52474d6ba2b4f331f8dba0ed",
       "version_major": 2,
       "version_minor": 0
      },
      "text/plain": [
       "HBox(children=(FloatProgress(value=0.0, description='warnings', max=3.0, style=ProgressStyle(description_width…"
      ]
     },
     "metadata": {},
     "output_type": "display_data"
    },
    {
     "name": "stdout",
     "output_type": "stream",
     "text": [
      "\n"
     ]
    },
    {
     "data": {
      "application/vnd.jupyter.widget-view+json": {
       "model_id": "5973cbf93dde443386ab4a84eefd982b",
       "version_major": 2,
       "version_minor": 0
      },
      "text/plain": [
       "HBox(children=(FloatProgress(value=0.0, description='package', max=1.0, style=ProgressStyle(description_width=…"
      ]
     },
     "metadata": {},
     "output_type": "display_data"
    },
    {
     "name": "stdout",
     "output_type": "stream",
     "text": [
      "\n"
     ]
    },
    {
     "data": {
      "application/vnd.jupyter.widget-view+json": {
       "model_id": "b277420e362d47cbac9df4d08c60ec7e",
       "version_major": 2,
       "version_minor": 0
      },
      "text/plain": [
       "HBox(children=(FloatProgress(value=0.0, description='build report structure', max=1.0, style=ProgressStyle(des…"
      ]
     },
     "metadata": {},
     "output_type": "display_data"
    },
    {
     "name": "stdout",
     "output_type": "stream",
     "text": [
      "\n"
     ]
    }
   ],
   "source": [
    "train_report = PR(train, minimal=False) "
   ]
  },
  {
   "cell_type": "code",
   "execution_count": 9,
   "metadata": {},
   "outputs": [
    {
     "data": {
      "application/vnd.jupyter.widget-view+json": {
       "model_id": "18e1ed51da034c239017cdde776f360b",
       "version_major": 2,
       "version_minor": 0
      },
      "text/plain": [
       "HBox(children=(FloatProgress(value=0.0, description='variables', max=8.0, style=ProgressStyle(description_widt…"
      ]
     },
     "metadata": {},
     "output_type": "display_data"
    },
    {
     "name": "stdout",
     "output_type": "stream",
     "text": [
      "\n"
     ]
    },
    {
     "data": {
      "application/vnd.jupyter.widget-view+json": {
       "model_id": "eff537f30a0a40adadfd0d9d74b829e2",
       "version_major": 2,
       "version_minor": 0
      },
      "text/plain": [
       "HBox(children=(FloatProgress(value=0.0, description='correlations', max=6.0, style=ProgressStyle(description_w…"
      ]
     },
     "metadata": {},
     "output_type": "display_data"
    },
    {
     "name": "stdout",
     "output_type": "stream",
     "text": [
      "\n"
     ]
    },
    {
     "data": {
      "application/vnd.jupyter.widget-view+json": {
       "model_id": "b3094964783547e3a7d227a54793acc9",
       "version_major": 2,
       "version_minor": 0
      },
      "text/plain": [
       "HBox(children=(FloatProgress(value=0.0, description='interactions [continuous]', max=64.0, style=ProgressStyle…"
      ]
     },
     "metadata": {},
     "output_type": "display_data"
    },
    {
     "name": "stdout",
     "output_type": "stream",
     "text": [
      "\n"
     ]
    },
    {
     "data": {
      "application/vnd.jupyter.widget-view+json": {
       "model_id": "089161796d564fcc8b01d0c87317daf8",
       "version_major": 2,
       "version_minor": 0
      },
      "text/plain": [
       "HBox(children=(FloatProgress(value=0.0, description='table', max=1.0, style=ProgressStyle(description_width='i…"
      ]
     },
     "metadata": {},
     "output_type": "display_data"
    },
    {
     "name": "stdout",
     "output_type": "stream",
     "text": [
      "\n"
     ]
    },
    {
     "data": {
      "application/vnd.jupyter.widget-view+json": {
       "model_id": "c0fed2e9c50e438fbeb7deb55d1d8ddf",
       "version_major": 2,
       "version_minor": 0
      },
      "text/plain": [
       "HBox(children=(FloatProgress(value=0.0, description='missing', max=4.0, style=ProgressStyle(description_width=…"
      ]
     },
     "metadata": {},
     "output_type": "display_data"
    },
    {
     "name": "stdout",
     "output_type": "stream",
     "text": [
      "\n"
     ]
    },
    {
     "data": {
      "application/vnd.jupyter.widget-view+json": {
       "model_id": "7f4e12680aea4761aee3c961a7363913",
       "version_major": 2,
       "version_minor": 0
      },
      "text/plain": [
       "HBox(children=(FloatProgress(value=0.0, description='warnings', max=3.0, style=ProgressStyle(description_width…"
      ]
     },
     "metadata": {},
     "output_type": "display_data"
    },
    {
     "name": "stdout",
     "output_type": "stream",
     "text": [
      "\n"
     ]
    },
    {
     "data": {
      "application/vnd.jupyter.widget-view+json": {
       "model_id": "d60a54e030b548a9ab238785ff224741",
       "version_major": 2,
       "version_minor": 0
      },
      "text/plain": [
       "HBox(children=(FloatProgress(value=0.0, description='package', max=1.0, style=ProgressStyle(description_width=…"
      ]
     },
     "metadata": {},
     "output_type": "display_data"
    },
    {
     "name": "stdout",
     "output_type": "stream",
     "text": [
      "\n"
     ]
    },
    {
     "data": {
      "application/vnd.jupyter.widget-view+json": {
       "model_id": "b56bebd07a20418da5b49be2038d2786",
       "version_major": 2,
       "version_minor": 0
      },
      "text/plain": [
       "HBox(children=(FloatProgress(value=0.0, description='build report structure', max=1.0, style=ProgressStyle(des…"
      ]
     },
     "metadata": {},
     "output_type": "display_data"
    },
    {
     "name": "stdout",
     "output_type": "stream",
     "text": [
      "\n"
     ]
    }
   ],
   "source": [
    "test_report = PR(test, minimal=False)"
   ]
  },
  {
   "cell_type": "code",
   "execution_count": 10,
   "metadata": {},
   "outputs": [
    {
     "data": {
      "application/vnd.jupyter.widget-view+json": {
       "model_id": "deb60ffcf5d141b68da25a4b502b98d7",
       "version_major": 2,
       "version_minor": 0
      },
      "text/plain": [
       "Tab(children=(Tab(children=(GridBox(children=(VBox(children=(GridspecLayout(children=(HTML(value='Number of va…"
      ]
     },
     "metadata": {},
     "output_type": "display_data"
    },
    {
     "data": {
      "text/html": [
       "Report generated with <a href=\"https://github.com/pandas-profiling/pandas-profiling\">pandas-profiling</a>."
      ],
      "text/plain": [
       "<IPython.core.display.HTML object>"
      ]
     },
     "metadata": {},
     "output_type": "display_data"
    },
    {
     "data": {
      "application/vnd.jupyter.widget-view+json": {
       "model_id": "c6dfd538b557417ab7d178059cb6f1e5",
       "version_major": 2,
       "version_minor": 0
      },
      "text/plain": [
       "Tab(children=(Tab(children=(GridBox(children=(VBox(children=(GridspecLayout(children=(HTML(value='Number of va…"
      ]
     },
     "metadata": {},
     "output_type": "display_data"
    },
    {
     "data": {
      "text/html": [
       "Report generated with <a href=\"https://github.com/pandas-profiling/pandas-profiling\">pandas-profiling</a>."
      ],
      "text/plain": [
       "<IPython.core.display.HTML object>"
      ]
     },
     "metadata": {},
     "output_type": "display_data"
    }
   ],
   "source": [
    "train_report.to_widgets()\n",
    "test_report.to_widgets()"
   ]
  },
  {
   "cell_type": "code",
   "execution_count": 11,
   "metadata": {},
   "outputs": [],
   "source": [
    "train_report.to_file(\"Train_Report.html\")"
   ]
  },
  {
   "cell_type": "code",
   "execution_count": 12,
   "metadata": {},
   "outputs": [],
   "source": [
    "test_report.to_file(\"Test_Report.html\")"
   ]
  },
  {
   "cell_type": "code",
   "execution_count": 13,
   "metadata": {},
   "outputs": [],
   "source": [
    "to_drop = [\"Id\"]+[str(i) for i in range(3,8)]\n",
    "train_t = train.drop(to_drop, axis=1)"
   ]
  },
  {
   "cell_type": "code",
   "execution_count": 14,
   "metadata": {},
   "outputs": [
    {
     "name": "stdout",
     "output_type": "stream",
     "text": [
      "<class 'pandas.core.frame.DataFrame'>\n",
      "RangeIndex: 147 entries, 0 to 146\n",
      "Data columns (total 3 columns):\n",
      "target    147 non-null float64\n",
      "1         145 non-null float64\n",
      "2         145 non-null float64\n",
      "dtypes: float64(3)\n",
      "memory usage: 3.6 KB\n"
     ]
    }
   ],
   "source": [
    "train_t.info()"
   ]
  },
  {
   "cell_type": "code",
   "execution_count": 15,
   "metadata": {},
   "outputs": [
    {
     "name": "stdout",
     "output_type": "stream",
     "text": [
      "<class 'pandas.core.frame.DataFrame'>\n",
      "Int64Index: 144 entries, 0 to 146\n",
      "Data columns (total 3 columns):\n",
      "target    144 non-null float64\n",
      "1         144 non-null float64\n",
      "2         144 non-null float64\n",
      "dtypes: float64(3)\n",
      "memory usage: 4.5 KB\n"
     ]
    }
   ],
   "source": [
    "train_t = train_t.dropna()\n",
    "train_t.info()"
   ]
  },
  {
   "cell_type": "code",
   "execution_count": 16,
   "metadata": {},
   "outputs": [
    {
     "data": {
      "text/html": [
       "<div>\n",
       "<style scoped>\n",
       "    .dataframe tbody tr th:only-of-type {\n",
       "        vertical-align: middle;\n",
       "    }\n",
       "\n",
       "    .dataframe tbody tr th {\n",
       "        vertical-align: top;\n",
       "    }\n",
       "\n",
       "    .dataframe thead th {\n",
       "        text-align: right;\n",
       "    }\n",
       "</style>\n",
       "<table border=\"1\" class=\"dataframe\">\n",
       "  <thead>\n",
       "    <tr style=\"text-align: right;\">\n",
       "      <th></th>\n",
       "      <th>target</th>\n",
       "      <th>1</th>\n",
       "      <th>2</th>\n",
       "    </tr>\n",
       "  </thead>\n",
       "  <tbody>\n",
       "    <tr>\n",
       "      <th>0</th>\n",
       "      <td>5.85</td>\n",
       "      <td>4.80</td>\n",
       "      <td>5.85</td>\n",
       "    </tr>\n",
       "    <tr>\n",
       "      <th>1</th>\n",
       "      <td>4.28</td>\n",
       "      <td>5.88</td>\n",
       "      <td>6.84</td>\n",
       "    </tr>\n",
       "    <tr>\n",
       "      <th>2</th>\n",
       "      <td>3.97</td>\n",
       "      <td>3.20</td>\n",
       "      <td>2.70</td>\n",
       "    </tr>\n",
       "    <tr>\n",
       "      <th>3</th>\n",
       "      <td>5.95</td>\n",
       "      <td>7.70</td>\n",
       "      <td>7.06</td>\n",
       "    </tr>\n",
       "    <tr>\n",
       "      <th>4</th>\n",
       "      <td>4.70</td>\n",
       "      <td>5.50</td>\n",
       "      <td>5.30</td>\n",
       "    </tr>\n",
       "  </tbody>\n",
       "</table>\n",
       "</div>"
      ],
      "text/plain": [
       "   target     1     2\n",
       "0    5.85  4.80  5.85\n",
       "1    4.28  5.88  6.84\n",
       "2    3.97  3.20  2.70\n",
       "3    5.95  7.70  7.06\n",
       "4    4.70  5.50  5.30"
      ]
     },
     "execution_count": 16,
     "metadata": {},
     "output_type": "execute_result"
    }
   ],
   "source": [
    "train_t.head()"
   ]
  },
  {
   "cell_type": "code",
   "execution_count": 17,
   "metadata": {},
   "outputs": [],
   "source": [
    "# preprocessing\n",
    "from sklearn.preprocessing import LabelEncoder, StandardScaler\n",
    "from sklearn.model_selection import train_test_split, cross_val_score, GridSearchCV, StratifiedKFold"
   ]
  },
  {
   "cell_type": "code",
   "execution_count": 18,
   "metadata": {},
   "outputs": [],
   "source": [
    "target = train_t[\"target\"]\n",
    "features = train_t.drop(\"target\", axis=1)\n",
    "SS = StandardScaler()\n",
    "features = pd.DataFrame(SS.fit_transform(features), columns= features.columns)"
   ]
  },
  {
   "cell_type": "code",
   "execution_count": 19,
   "metadata": {},
   "outputs": [
    {
     "data": {
      "text/html": [
       "<div>\n",
       "<style scoped>\n",
       "    .dataframe tbody tr th:only-of-type {\n",
       "        vertical-align: middle;\n",
       "    }\n",
       "\n",
       "    .dataframe tbody tr th {\n",
       "        vertical-align: top;\n",
       "    }\n",
       "\n",
       "    .dataframe thead th {\n",
       "        text-align: right;\n",
       "    }\n",
       "</style>\n",
       "<table border=\"1\" class=\"dataframe\">\n",
       "  <thead>\n",
       "    <tr style=\"text-align: right;\">\n",
       "      <th></th>\n",
       "      <th>1</th>\n",
       "      <th>2</th>\n",
       "    </tr>\n",
       "  </thead>\n",
       "  <tbody>\n",
       "    <tr>\n",
       "      <th>0</th>\n",
       "      <td>-0.085038</td>\n",
       "      <td>0.464653</td>\n",
       "    </tr>\n",
       "    <tr>\n",
       "      <th>1</th>\n",
       "      <td>0.443331</td>\n",
       "      <td>0.963267</td>\n",
       "    </tr>\n",
       "    <tr>\n",
       "      <th>2</th>\n",
       "      <td>-0.867807</td>\n",
       "      <td>-1.121847</td>\n",
       "    </tr>\n",
       "    <tr>\n",
       "      <th>3</th>\n",
       "      <td>1.333732</td>\n",
       "      <td>1.074070</td>\n",
       "    </tr>\n",
       "    <tr>\n",
       "      <th>4</th>\n",
       "      <td>0.257424</td>\n",
       "      <td>0.187645</td>\n",
       "    </tr>\n",
       "  </tbody>\n",
       "</table>\n",
       "</div>"
      ],
      "text/plain": [
       "          1         2\n",
       "0 -0.085038  0.464653\n",
       "1  0.443331  0.963267\n",
       "2 -0.867807 -1.121847\n",
       "3  1.333732  1.074070\n",
       "4  0.257424  0.187645"
      ]
     },
     "execution_count": 19,
     "metadata": {},
     "output_type": "execute_result"
    }
   ],
   "source": [
    "features.head()"
   ]
  },
  {
   "cell_type": "code",
   "execution_count": 20,
   "metadata": {},
   "outputs": [],
   "source": [
    "train_f, vald_f, train_target, vald_target = train_test_split(features, target, test_size=0.3, random_state=0)"
   ]
  },
  {
   "cell_type": "code",
   "execution_count": 21,
   "metadata": {},
   "outputs": [],
   "source": [
    "# we ll be evaluating models performance using RMSE and R-squired matrics for validation set\n",
    "acc_rmse_list = []\n",
    "acc_r2_list = []"
   ]
  },
  {
   "cell_type": "code",
   "execution_count": 22,
   "metadata": {},
   "outputs": [],
   "source": [
    "train_time_list = []\n",
    "val_time_list = []"
   ]
  },
  {
   "cell_type": "code",
   "execution_count": 23,
   "metadata": {},
   "outputs": [],
   "source": [
    "from sklearn.metrics import r2_score, mean_squared_error"
   ]
  },
  {
   "cell_type": "code",
   "execution_count": 24,
   "metadata": {},
   "outputs": [],
   "source": [
    "# RMSE between predicted y_pred and measured y_meas values\n",
    "def acc_rmse(y_meas, y_pred):\n",
    "    x = mean_squared_error(y_meas, y_pred)**0.5\n",
    "    return round(x*100, 2)"
   ]
  },
  {
   "cell_type": "code",
   "execution_count": 25,
   "metadata": {},
   "outputs": [],
   "source": [
    "#r2 represent the amount of variace explained by the two features\n",
    "def acc_r2(y_meas, y_pred):\n",
    "    x = r2_score(y_meas, y_pred)\n",
    "    return round(x*100, 2)"
   ]
  },
  {
   "cell_type": "code",
   "execution_count": 26,
   "metadata": {},
   "outputs": [],
   "source": [
    "def acc_model(model, validation_set= vald_f ,num_iteration= 0.0):\n",
    "    \n",
    "    global Results\n",
    "    global vald_target\n",
    "    global acc_rmse_list, acc_r2_list, val_time_list\n",
    "    global train_time \n",
    "    \n",
    "    if num_iteration > 0: \n",
    "        t0 = time()\n",
    "        y_vald = model.predict(validation_set, num_iteration = num_iteration)\n",
    "        Val_time = round((time()-t0)*1000, 4)\n",
    "    else:\n",
    "        t0 = time()\n",
    "        y_vald = model.predict(validation_set)\n",
    "        Val_time = round((time()-t0)*1000, 4)\n",
    "        \n",
    "    print(\"Validition Time = \", Val_time, \"ms\")    \n",
    "        \n",
    "    m_acc_rmse = acc_rmse(vald_target, y_vald)\n",
    "    m_acc_r2 = acc_r2(vald_target, y_vald)\n",
    "    \n",
    "    print(\"rmse for validation set is: \", m_acc_rmse)\n",
    "    print(\"r2 score for validation set is: \", m_acc_r2)\n",
    "    \n",
    "    acc_rmse_list.append(m_acc_rmse)\n",
    "    acc_r2_list.append(m_acc_r2)\n",
    "    val_time_list.append(Val_time)\n",
    "    "
   ]
  },
  {
   "cell_type": "code",
   "execution_count": 27,
   "metadata": {},
   "outputs": [],
   "source": [
    "def fit_model(model):\n",
    "    \n",
    "    global train_time_list\n",
    "    global train_f, train_target\n",
    "    \n",
    "    t0 = time()\n",
    "    model.fit(train_f, train_target)\n",
    "    train_time = round((time()-t0)*1000, 4)\n",
    "\n",
    "    print(\"Training Time = \", train_time, \"ms\")\n",
    "    train_time_list.append(train_time)\n",
    "    "
   ]
  },
  {
   "cell_type": "code",
   "execution_count": 28,
   "metadata": {},
   "outputs": [
    {
     "name": "stdout",
     "output_type": "stream",
     "text": [
      "Training Time =  1.6358 ms\n",
      "Validition Time =  0.6957 ms\n",
      "rmse for validation set is:  138.13\n",
      "r2 score for validation set is:  54.23\n"
     ]
    }
   ],
   "source": [
    "# Linear Regression\n",
    "from sklearn.linear_model import LinearRegression\n",
    "\n",
    "linreg = LinearRegression()\n",
    "fit_model(linreg)\n",
    "acc_model(linreg)"
   ]
  },
  {
   "cell_type": "code",
   "execution_count": 29,
   "metadata": {},
   "outputs": [
    {
     "data": {
      "text/plain": [
       "[54.23]"
      ]
     },
     "execution_count": 29,
     "metadata": {},
     "output_type": "execute_result"
    }
   ],
   "source": [
    "acc_r2_list"
   ]
  },
  {
   "cell_type": "code",
   "execution_count": 30,
   "metadata": {},
   "outputs": [
    {
     "name": "stdout",
     "output_type": "stream",
     "text": [
      "Training Time =  2.636 ms\n",
      "Validition Time =  1.4772 ms\n",
      "rmse for validation set is:  145.53\n",
      "r2 score for validation set is:  49.2\n"
     ]
    }
   ],
   "source": [
    "# Support Vector Machines\n",
    "from sklearn.svm import SVR\n",
    "\n",
    "svr = SVR()\n",
    "fit_model(svr)\n",
    "acc_model(svr)"
   ]
  },
  {
   "cell_type": "code",
   "execution_count": 31,
   "metadata": {},
   "outputs": [
    {
     "name": "stdout",
     "output_type": "stream",
     "text": [
      "Training Time =  1.6389 ms\n",
      "Validition Time =  0.8261 ms\n",
      "rmse for validation set is:  143.78\n",
      "r2 score for validation set is:  50.41\n"
     ]
    }
   ],
   "source": [
    "# Linear SVR\n",
    "from sklearn.svm import LinearSVR\n",
    "\n",
    "linear_svr = LinearSVR()\n",
    "fit_model(linear_svr)\n",
    "acc_model(linear_svr)"
   ]
  },
  {
   "cell_type": "code",
   "execution_count": 32,
   "metadata": {},
   "outputs": [
    {
     "name": "stdout",
     "output_type": "stream",
     "text": [
      "Fitting 10 folds for each of 18 candidates, totalling 180 fits\n"
     ]
    },
    {
     "name": "stderr",
     "output_type": "stream",
     "text": [
      "[Parallel(n_jobs=1)]: Using backend SequentialBackend with 1 concurrent workers.\n",
      "[Parallel(n_jobs=1)]: Done 180 out of 180 | elapsed:   41.5s finished\n"
     ]
    },
    {
     "name": "stdout",
     "output_type": "stream",
     "text": [
      "Training Time =  41847.8997 ms\n",
      "Validition Time =  0.9241 ms\n",
      "rmse for validation set is:  163.83\n",
      "r2 score for validation set is:  35.62\n"
     ]
    }
   ],
   "source": [
    "# MLPRegressor\n",
    "from sklearn.neural_network import MLPRegressor\n",
    "\n",
    "mlp = MLPRegressor()\n",
    "param_grid = {'hidden_layer_sizes': [i for i in range(2,20)],\n",
    "              'activation': ['relu'],\n",
    "              'solver': ['adam'],\n",
    "              'learning_rate': ['constant'],\n",
    "              'learning_rate_init': [0.01],\n",
    "              'power_t': [0.5],\n",
    "              'alpha': [0.0001],\n",
    "              'max_iter': [1000],\n",
    "              'early_stopping': [True],\n",
    "              'warm_start': [False]}\n",
    "\n",
    "mlp_GS = GridSearchCV(mlp, param_grid=param_grid, \n",
    "                   cv=10, verbose=True, pre_dispatch='2*n_jobs')\n",
    "\n",
    "fit_model(mlp_GS)\n",
    "\n",
    "acc_model(mlp_GS)"
   ]
  },
  {
   "cell_type": "code",
   "execution_count": 33,
   "metadata": {},
   "outputs": [
    {
     "name": "stdout",
     "output_type": "stream",
     "text": [
      "Training Time =  1.8508 ms\n",
      "Validition Time =  0.9732 ms\n",
      "rmse for validation set is:  139.87\n",
      "r2 score for validation set is:  53.08\n"
     ]
    }
   ],
   "source": [
    "# Stochastic Gradient Descent\n",
    "from sklearn.linear_model import SGDRegressor\n",
    "\n",
    "sgd = SGDRegressor()\n",
    "fit_model(sgd)\n",
    "acc_model(sgd)"
   ]
  },
  {
   "cell_type": "code",
   "execution_count": 34,
   "metadata": {},
   "outputs": [
    {
     "name": "stdout",
     "output_type": "stream",
     "text": [
      "Training Time =  1.996 ms\n",
      "Validition Time =  1.0102 ms\n",
      "rmse for validation set is:  169.88\n",
      "r2 score for validation set is:  30.78\n"
     ]
    }
   ],
   "source": [
    "# Decision Tree Regression\n",
    "from sklearn.tree import DecisionTreeRegressor\n",
    "\n",
    "decision_tree = DecisionTreeRegressor()\n",
    "fit_model(decision_tree)\n",
    "acc_model(decision_tree)"
   ]
  },
  {
   "cell_type": "code",
   "execution_count": 35,
   "metadata": {},
   "outputs": [
    {
     "name": "stdout",
     "output_type": "stream",
     "text": [
      "Training Time =  20.211 ms\n",
      "Validition Time =  3.1826 ms\n",
      "rmse for validation set is:  159.29\n",
      "r2 score for validation set is:  39.14\n"
     ]
    }
   ],
   "source": [
    "# Bagging Regressor\n",
    "from sklearn.ensemble import BaggingRegressor\n",
    "\n",
    "bagging = BaggingRegressor() #the base estimator is a decision tree.\n",
    "fit_model(bagging)\n",
    "acc_model(bagging)"
   ]
  },
  {
   "cell_type": "code",
   "execution_count": 36,
   "metadata": {},
   "outputs": [
    {
     "name": "stdout",
     "output_type": "stream",
     "text": [
      "Training Time =  10778.9042 ms\n",
      "{'n_estimators': 1000}\n",
      "Validition Time =  0.9627 ms\n",
      "rmse for validation set is:  169.88\n",
      "r2 score for validation set is:  30.78\n"
     ]
    }
   ],
   "source": [
    "# Random Forest\n",
    "from sklearn.ensemble import RandomForestRegressor\n",
    "\n",
    "random_forest = GridSearchCV(estimator=RandomForestRegressor(), param_grid={'n_estimators': [100, 1000]}, cv=5)\n",
    "fit_model(random_forest)\n",
    "print(random_forest.best_params_)\n",
    "\n",
    "acc_model(decision_tree)"
   ]
  },
  {
   "cell_type": "code",
   "execution_count": 37,
   "metadata": {},
   "outputs": [
    {
     "name": "stdout",
     "output_type": "stream",
     "text": [
      "-0.04891816281396004                                  \n",
      "{'max_depth': 8, 'n_estimators': 640}                 \n",
      "-0.12988750209365957                                                              \n",
      "{'max_depth': 9, 'n_estimators': 320}                                             \n",
      "0.0018189258678464216                                                             \n",
      "{'max_depth': 2, 'n_estimators': 181}                                             \n",
      "-0.11383924473708636                                                              \n",
      "{'max_depth': 4, 'n_estimators': 156}                                             \n",
      "-0.06288517088019721                                                              \n",
      "{'max_depth': 8, 'n_estimators': 550}                                             \n",
      "-0.1406646063297927                                                               \n",
      "{'max_depth': 9, 'n_estimators': 251}                                             \n",
      "-0.09019531248047644                                                              \n",
      "{'max_depth': 5, 'n_estimators': 500}                                            \n",
      "-0.08429371742594352                                                             \n",
      "{'max_depth': 5, 'n_estimators': 562}                                            \n",
      "-0.03399151681271122                                                             \n",
      "{'max_depth': 7, 'n_estimators': 649}                                            \n",
      "-0.18126117446624276                                                             \n",
      "{'max_depth': 6, 'n_estimators': 405}                                            \n",
      "100%|██████████| 10/10 [00:15<00:00,  1.60s/trial, best loss: -0.18126117446624276]\n",
      "best:\n",
      "{'max_depth': 4, 'n_estimators': 305}\n"
     ]
    }
   ],
   "source": [
    "#GradientBoostingRegressor with HyperOpt\n",
    "from sklearn.ensemble import  GradientBoostingRegressor\n",
    "\n",
    "def hyperopt_gb_score(params):\n",
    "    gbr = GradientBoostingRegressor(**params)\n",
    "    current_score = cross_val_score(gbr, train_f, train_target, cv=10).mean()\n",
    "    print(current_score, params)\n",
    "    return current_score \n",
    " \n",
    "space_gb = {\n",
    "            'n_estimators': hp.choice('n_estimators', range(100, 1000)),\n",
    "            'max_depth': hp.choice('max_depth', np.arange(2, 10, dtype=int))            \n",
    "        }\n",
    " \n",
    "best = fmin(fn=hyperopt_gb_score, space=space_gb, algo=tpe.suggest, max_evals=10)\n",
    "print('best:')\n",
    "print(best)"
   ]
  },
  {
   "cell_type": "code",
   "execution_count": 38,
   "metadata": {},
   "outputs": [
    {
     "data": {
      "text/plain": [
       "{'max_depth': 6, 'n_estimators': 405}"
      ]
     },
     "execution_count": 38,
     "metadata": {},
     "output_type": "execute_result"
    }
   ],
   "source": [
    "params = space_eval(space_gb, best)\n",
    "params\n",
    "#params[\"max_depth\"]=7 for some reason max_depth=7 gives less rmse !!!!! \n",
    "#params"
   ]
  },
  {
   "cell_type": "code",
   "execution_count": 39,
   "metadata": {},
   "outputs": [
    {
     "name": "stdout",
     "output_type": "stream",
     "text": [
      "Training Time =  167.377 ms\n",
      "Validition Time =  1.6701 ms\n",
      "rmse for validation set is:  179.11\n",
      "r2 score for validation set is:  23.05\n"
     ]
    }
   ],
   "source": [
    "gradient_boosting = GradientBoostingRegressor(**params)\n",
    "fit_model(gradient_boosting)\n",
    "acc_model(gradient_boosting)"
   ]
  },
  {
   "cell_type": "code",
   "execution_count": 40,
   "metadata": {},
   "outputs": [
    {
     "name": "stdout",
     "output_type": "stream",
     "text": [
      "Training Time =  70.4613 ms\n",
      "Validition Time =  0.7031 ms\n",
      "rmse for validation set is:  138.71\n",
      "r2 score for validation set is:  53.85\n"
     ]
    }
   ],
   "source": [
    "# Ridge Regressor\n",
    "from sklearn.linear_model import RidgeCV\n",
    "\n",
    "ridge = RidgeCV(cv=5)\n",
    "fit_model(ridge)\n",
    "acc_model(ridge)"
   ]
  },
  {
   "cell_type": "code",
   "execution_count": 41,
   "metadata": {},
   "outputs": [
    {
     "name": "stdout",
     "output_type": "stream",
     "text": [
      "Training Time =  116.642 ms\n",
      "Validition Time =  15.471 ms\n",
      "rmse for validation set is:  169.25\n",
      "r2 score for validation set is:  31.29\n"
     ]
    }
   ],
   "source": [
    "# Extra Trees Regressor\n",
    "from sklearn.ensemble import ExtraTreesRegressor\n",
    "\n",
    "etr = ExtraTreesRegressor()\n",
    "fit_model(etr)\n",
    "acc_model(etr)"
   ]
  },
  {
   "cell_type": "code",
   "execution_count": 42,
   "metadata": {},
   "outputs": [
    {
     "name": "stdout",
     "output_type": "stream",
     "text": [
      "Training Time =  58.461 ms\n",
      "Validition Time =  5.4259 ms\n",
      "rmse for validation set is:  161.37\n",
      "r2 score for validation set is:  37.54\n"
     ]
    }
   ],
   "source": [
    "# AdaBoost Regression\n",
    "from sklearn.ensemble import AdaBoostRegressor\n",
    "\n",
    "Ada_Boost = AdaBoostRegressor()\n",
    "fit_model(Ada_Boost)\n",
    "acc_model(Ada_Boost)"
   ]
  },
  {
   "cell_type": "code",
   "execution_count": 43,
   "metadata": {},
   "outputs": [
    {
     "name": "stdout",
     "output_type": "stream",
     "text": [
      "Training Time =  69.9022 ms\n",
      "Validition Time =  2.2957 ms\n",
      "rmse for validation set is:  138.73\n",
      "r2 score for validation set is:  53.84\n"
     ]
    }
   ],
   "source": [
    "#Voting Regressor\n",
    "from sklearn.ensemble import VotingRegressor\n",
    "\n",
    "Voting_Reg = VotingRegressor(estimators=[('lin', linreg), ('ridge', ridge), ('sgd', sgd)])\n",
    "fit_model(Voting_Reg)\n",
    "acc_model(Voting_Reg)"
   ]
  },
  {
   "cell_type": "code",
   "execution_count": 44,
   "metadata": {},
   "outputs": [],
   "source": [
    "#Light gradien boosting machine\n",
    "import lightgbm as lgb\n",
    "#split training set to validation set\n",
    "Xtrain, Xval, Ztrain, Zval = train_test_split(features, target, test_size=0.2, random_state=0)\n",
    "train_set = lgb.Dataset(Xtrain, Ztrain, silent=False)\n",
    "valid_set = lgb.Dataset(Xval, Zval, silent=False)"
   ]
  },
  {
   "cell_type": "code",
   "execution_count": 45,
   "metadata": {},
   "outputs": [
    {
     "name": "stdout",
     "output_type": "stream",
     "text": [
      "Training until validation scores don't improve for 2000 rounds\n",
      "[500]\tvalid_0's rmse: 1.65897\n",
      "[1000]\tvalid_0's rmse: 1.65897\n",
      "[1500]\tvalid_0's rmse: 1.65897\n",
      "[2000]\tvalid_0's rmse: 1.65897\n",
      "Early stopping, best iteration is:\n",
      "[177]\tvalid_0's rmse: 1.64042\n",
      "Training Time =  0.4943239688873291 ms\n"
     ]
    }
   ],
   "source": [
    "params = {\n",
    "        'boosting_type':'gbdt',\n",
    "        'objective': 'regression',\n",
    "        'num_leaves': 31,\n",
    "        'learning_rate': 0.01,\n",
    "        'max_depth': -1,\n",
    "        'subsample': 0.8,\n",
    "        'bagging_fraction' : 1,\n",
    "        'max_bin' : 5000 ,\n",
    "        'bagging_freq': 20,\n",
    "        'colsample_bytree': 0.6,\n",
    "        'metric': 'rmse',\n",
    "        'min_split_gain': 0.5,\n",
    "        'min_child_weight': 1,\n",
    "        'min_child_samples': 10,\n",
    "        'scale_pos_weight':1,\n",
    "        'zero_as_missing': False,\n",
    "        'seed':0,        \n",
    "    }\n",
    "\n",
    "t0 = time()\n",
    "modelL = lgb.train(params, train_set = train_set, num_boost_round=10000,\n",
    "                   early_stopping_rounds=2000,verbose_eval=500, valid_sets=valid_set)\n",
    "train_time = time()-t0\n",
    "\n",
    "print(\"Training Time = \",train_time, \"ms\")\n",
    "\n",
    "train_time_list.append(train_time)\n"
   ]
  },
  {
   "cell_type": "code",
   "execution_count": 46,
   "metadata": {},
   "outputs": [
    {
     "name": "stdout",
     "output_type": "stream",
     "text": [
      "Validition Time =  6.3701 ms\n",
      "rmse for validation set is:  138.11\n",
      "r2 score for validation set is:  54.25\n"
     ]
    }
   ],
   "source": [
    "acc_model(modelL,num_iteration=modelL.best_iteration)"
   ]
  },
  {
   "cell_type": "code",
   "execution_count": 47,
   "metadata": {},
   "outputs": [],
   "source": [
    "Results = pd.DataFrame({\n",
    "    'Model': ['Linear Regression', 'Support Vector Machines', 'Linear SVR', \n",
    "              'MLPRegressor', 'Stochastic Gradient Decent', \n",
    "              'Decision Tree Regressor', 'Random Forest',\n",
    "              'GradientBoostingRegressor', 'RidgeRegressor', 'BaggingRegressor', 'ExtraTreesRegressor', \n",
    "              'AdaBoostRegressor', 'VotingRegressor','lgbm'],\n",
    "    \n",
    "    'rmse_validation': acc_rmse_list,\n",
    "    'r2_validation': acc_r2_list,\n",
    "    'Train time - ms': train_time_list,\n",
    "    'validation time -ms': val_time_list\n",
    "                     })"
   ]
  },
  {
   "cell_type": "code",
   "execution_count": 48,
   "metadata": {},
   "outputs": [
    {
     "data": {
      "text/html": [
       "<div>\n",
       "<style scoped>\n",
       "    .dataframe tbody tr th:only-of-type {\n",
       "        vertical-align: middle;\n",
       "    }\n",
       "\n",
       "    .dataframe tbody tr th {\n",
       "        vertical-align: top;\n",
       "    }\n",
       "\n",
       "    .dataframe thead th {\n",
       "        text-align: right;\n",
       "    }\n",
       "</style>\n",
       "<table border=\"1\" class=\"dataframe\">\n",
       "  <thead>\n",
       "    <tr style=\"text-align: right;\">\n",
       "      <th></th>\n",
       "      <th>Model</th>\n",
       "      <th>rmse_validation</th>\n",
       "      <th>r2_validation</th>\n",
       "      <th>Train time - ms</th>\n",
       "      <th>validation time -ms</th>\n",
       "    </tr>\n",
       "  </thead>\n",
       "  <tbody>\n",
       "    <tr>\n",
       "      <th>0</th>\n",
       "      <td>Linear Regression</td>\n",
       "      <td>138.13</td>\n",
       "      <td>54.23</td>\n",
       "      <td>1.635800</td>\n",
       "      <td>0.6957</td>\n",
       "    </tr>\n",
       "    <tr>\n",
       "      <th>1</th>\n",
       "      <td>Support Vector Machines</td>\n",
       "      <td>145.53</td>\n",
       "      <td>49.20</td>\n",
       "      <td>2.636000</td>\n",
       "      <td>1.4772</td>\n",
       "    </tr>\n",
       "    <tr>\n",
       "      <th>2</th>\n",
       "      <td>Linear SVR</td>\n",
       "      <td>143.78</td>\n",
       "      <td>50.41</td>\n",
       "      <td>1.638900</td>\n",
       "      <td>0.8261</td>\n",
       "    </tr>\n",
       "    <tr>\n",
       "      <th>3</th>\n",
       "      <td>MLPRegressor</td>\n",
       "      <td>163.83</td>\n",
       "      <td>35.62</td>\n",
       "      <td>41847.899700</td>\n",
       "      <td>0.9241</td>\n",
       "    </tr>\n",
       "    <tr>\n",
       "      <th>4</th>\n",
       "      <td>Stochastic Gradient Decent</td>\n",
       "      <td>139.87</td>\n",
       "      <td>53.08</td>\n",
       "      <td>1.850800</td>\n",
       "      <td>0.9732</td>\n",
       "    </tr>\n",
       "    <tr>\n",
       "      <th>5</th>\n",
       "      <td>Decision Tree Regressor</td>\n",
       "      <td>169.88</td>\n",
       "      <td>30.78</td>\n",
       "      <td>1.996000</td>\n",
       "      <td>1.0102</td>\n",
       "    </tr>\n",
       "    <tr>\n",
       "      <th>6</th>\n",
       "      <td>Random Forest</td>\n",
       "      <td>159.29</td>\n",
       "      <td>39.14</td>\n",
       "      <td>20.211000</td>\n",
       "      <td>3.1826</td>\n",
       "    </tr>\n",
       "    <tr>\n",
       "      <th>7</th>\n",
       "      <td>GradientBoostingRegressor</td>\n",
       "      <td>169.88</td>\n",
       "      <td>30.78</td>\n",
       "      <td>10778.904200</td>\n",
       "      <td>0.9627</td>\n",
       "    </tr>\n",
       "    <tr>\n",
       "      <th>8</th>\n",
       "      <td>RidgeRegressor</td>\n",
       "      <td>179.11</td>\n",
       "      <td>23.05</td>\n",
       "      <td>167.377000</td>\n",
       "      <td>1.6701</td>\n",
       "    </tr>\n",
       "    <tr>\n",
       "      <th>9</th>\n",
       "      <td>BaggingRegressor</td>\n",
       "      <td>138.71</td>\n",
       "      <td>53.85</td>\n",
       "      <td>70.461300</td>\n",
       "      <td>0.7031</td>\n",
       "    </tr>\n",
       "    <tr>\n",
       "      <th>10</th>\n",
       "      <td>ExtraTreesRegressor</td>\n",
       "      <td>169.25</td>\n",
       "      <td>31.29</td>\n",
       "      <td>116.642000</td>\n",
       "      <td>15.4710</td>\n",
       "    </tr>\n",
       "    <tr>\n",
       "      <th>11</th>\n",
       "      <td>AdaBoostRegressor</td>\n",
       "      <td>161.37</td>\n",
       "      <td>37.54</td>\n",
       "      <td>58.461000</td>\n",
       "      <td>5.4259</td>\n",
       "    </tr>\n",
       "    <tr>\n",
       "      <th>12</th>\n",
       "      <td>VotingRegressor</td>\n",
       "      <td>138.73</td>\n",
       "      <td>53.84</td>\n",
       "      <td>69.902200</td>\n",
       "      <td>2.2957</td>\n",
       "    </tr>\n",
       "    <tr>\n",
       "      <th>13</th>\n",
       "      <td>lgbm</td>\n",
       "      <td>138.11</td>\n",
       "      <td>54.25</td>\n",
       "      <td>0.494324</td>\n",
       "      <td>6.3701</td>\n",
       "    </tr>\n",
       "  </tbody>\n",
       "</table>\n",
       "</div>"
      ],
      "text/plain": [
       "                         Model  rmse_validation  r2_validation  \\\n",
       "0            Linear Regression           138.13          54.23   \n",
       "1      Support Vector Machines           145.53          49.20   \n",
       "2                   Linear SVR           143.78          50.41   \n",
       "3                 MLPRegressor           163.83          35.62   \n",
       "4   Stochastic Gradient Decent           139.87          53.08   \n",
       "5      Decision Tree Regressor           169.88          30.78   \n",
       "6                Random Forest           159.29          39.14   \n",
       "7    GradientBoostingRegressor           169.88          30.78   \n",
       "8               RidgeRegressor           179.11          23.05   \n",
       "9             BaggingRegressor           138.71          53.85   \n",
       "10         ExtraTreesRegressor           169.25          31.29   \n",
       "11           AdaBoostRegressor           161.37          37.54   \n",
       "12             VotingRegressor           138.73          53.84   \n",
       "13                        lgbm           138.11          54.25   \n",
       "\n",
       "    Train time - ms  validation time -ms  \n",
       "0          1.635800               0.6957  \n",
       "1          2.636000               1.4772  \n",
       "2          1.638900               0.8261  \n",
       "3      41847.899700               0.9241  \n",
       "4          1.850800               0.9732  \n",
       "5          1.996000               1.0102  \n",
       "6         20.211000               3.1826  \n",
       "7      10778.904200               0.9627  \n",
       "8        167.377000               1.6701  \n",
       "9         70.461300               0.7031  \n",
       "10       116.642000              15.4710  \n",
       "11        58.461000               5.4259  \n",
       "12        69.902200               2.2957  \n",
       "13         0.494324               6.3701  "
      ]
     },
     "execution_count": 48,
     "metadata": {},
     "output_type": "execute_result"
    }
   ],
   "source": [
    "Results"
   ]
  },
  {
   "cell_type": "code",
   "execution_count": 49,
   "metadata": {},
   "outputs": [
    {
     "data": {
      "text/html": [
       "<div>\n",
       "<style scoped>\n",
       "    .dataframe tbody tr th:only-of-type {\n",
       "        vertical-align: middle;\n",
       "    }\n",
       "\n",
       "    .dataframe tbody tr th {\n",
       "        vertical-align: top;\n",
       "    }\n",
       "\n",
       "    .dataframe thead th {\n",
       "        text-align: right;\n",
       "    }\n",
       "</style>\n",
       "<table border=\"1\" class=\"dataframe\">\n",
       "  <thead>\n",
       "    <tr style=\"text-align: right;\">\n",
       "      <th></th>\n",
       "      <th>Model</th>\n",
       "      <th>rmse_validation</th>\n",
       "      <th>r2_validation</th>\n",
       "      <th>Train time - ms</th>\n",
       "      <th>validation time -ms</th>\n",
       "    </tr>\n",
       "  </thead>\n",
       "  <tbody>\n",
       "    <tr>\n",
       "      <th>13</th>\n",
       "      <td>lgbm</td>\n",
       "      <td>138.11</td>\n",
       "      <td>54.25</td>\n",
       "      <td>0.494324</td>\n",
       "      <td>6.3701</td>\n",
       "    </tr>\n",
       "    <tr>\n",
       "      <th>0</th>\n",
       "      <td>Linear Regression</td>\n",
       "      <td>138.13</td>\n",
       "      <td>54.23</td>\n",
       "      <td>1.635800</td>\n",
       "      <td>0.6957</td>\n",
       "    </tr>\n",
       "    <tr>\n",
       "      <th>9</th>\n",
       "      <td>BaggingRegressor</td>\n",
       "      <td>138.71</td>\n",
       "      <td>53.85</td>\n",
       "      <td>70.461300</td>\n",
       "      <td>0.7031</td>\n",
       "    </tr>\n",
       "    <tr>\n",
       "      <th>12</th>\n",
       "      <td>VotingRegressor</td>\n",
       "      <td>138.73</td>\n",
       "      <td>53.84</td>\n",
       "      <td>69.902200</td>\n",
       "      <td>2.2957</td>\n",
       "    </tr>\n",
       "    <tr>\n",
       "      <th>4</th>\n",
       "      <td>Stochastic Gradient Decent</td>\n",
       "      <td>139.87</td>\n",
       "      <td>53.08</td>\n",
       "      <td>1.850800</td>\n",
       "      <td>0.9732</td>\n",
       "    </tr>\n",
       "    <tr>\n",
       "      <th>2</th>\n",
       "      <td>Linear SVR</td>\n",
       "      <td>143.78</td>\n",
       "      <td>50.41</td>\n",
       "      <td>1.638900</td>\n",
       "      <td>0.8261</td>\n",
       "    </tr>\n",
       "    <tr>\n",
       "      <th>1</th>\n",
       "      <td>Support Vector Machines</td>\n",
       "      <td>145.53</td>\n",
       "      <td>49.20</td>\n",
       "      <td>2.636000</td>\n",
       "      <td>1.4772</td>\n",
       "    </tr>\n",
       "    <tr>\n",
       "      <th>6</th>\n",
       "      <td>Random Forest</td>\n",
       "      <td>159.29</td>\n",
       "      <td>39.14</td>\n",
       "      <td>20.211000</td>\n",
       "      <td>3.1826</td>\n",
       "    </tr>\n",
       "    <tr>\n",
       "      <th>11</th>\n",
       "      <td>AdaBoostRegressor</td>\n",
       "      <td>161.37</td>\n",
       "      <td>37.54</td>\n",
       "      <td>58.461000</td>\n",
       "      <td>5.4259</td>\n",
       "    </tr>\n",
       "    <tr>\n",
       "      <th>3</th>\n",
       "      <td>MLPRegressor</td>\n",
       "      <td>163.83</td>\n",
       "      <td>35.62</td>\n",
       "      <td>41847.899700</td>\n",
       "      <td>0.9241</td>\n",
       "    </tr>\n",
       "    <tr>\n",
       "      <th>10</th>\n",
       "      <td>ExtraTreesRegressor</td>\n",
       "      <td>169.25</td>\n",
       "      <td>31.29</td>\n",
       "      <td>116.642000</td>\n",
       "      <td>15.4710</td>\n",
       "    </tr>\n",
       "    <tr>\n",
       "      <th>5</th>\n",
       "      <td>Decision Tree Regressor</td>\n",
       "      <td>169.88</td>\n",
       "      <td>30.78</td>\n",
       "      <td>1.996000</td>\n",
       "      <td>1.0102</td>\n",
       "    </tr>\n",
       "    <tr>\n",
       "      <th>7</th>\n",
       "      <td>GradientBoostingRegressor</td>\n",
       "      <td>169.88</td>\n",
       "      <td>30.78</td>\n",
       "      <td>10778.904200</td>\n",
       "      <td>0.9627</td>\n",
       "    </tr>\n",
       "    <tr>\n",
       "      <th>8</th>\n",
       "      <td>RidgeRegressor</td>\n",
       "      <td>179.11</td>\n",
       "      <td>23.05</td>\n",
       "      <td>167.377000</td>\n",
       "      <td>1.6701</td>\n",
       "    </tr>\n",
       "  </tbody>\n",
       "</table>\n",
       "</div>"
      ],
      "text/plain": [
       "                         Model  rmse_validation  r2_validation  \\\n",
       "13                        lgbm           138.11          54.25   \n",
       "0            Linear Regression           138.13          54.23   \n",
       "9             BaggingRegressor           138.71          53.85   \n",
       "12             VotingRegressor           138.73          53.84   \n",
       "4   Stochastic Gradient Decent           139.87          53.08   \n",
       "2                   Linear SVR           143.78          50.41   \n",
       "1      Support Vector Machines           145.53          49.20   \n",
       "6                Random Forest           159.29          39.14   \n",
       "11           AdaBoostRegressor           161.37          37.54   \n",
       "3                 MLPRegressor           163.83          35.62   \n",
       "10         ExtraTreesRegressor           169.25          31.29   \n",
       "5      Decision Tree Regressor           169.88          30.78   \n",
       "7    GradientBoostingRegressor           169.88          30.78   \n",
       "8               RidgeRegressor           179.11          23.05   \n",
       "\n",
       "    Train time - ms  validation time -ms  \n",
       "13         0.494324               6.3701  \n",
       "0          1.635800               0.6957  \n",
       "9         70.461300               0.7031  \n",
       "12        69.902200               2.2957  \n",
       "4          1.850800               0.9732  \n",
       "2          1.638900               0.8261  \n",
       "1          2.636000               1.4772  \n",
       "6         20.211000               3.1826  \n",
       "11        58.461000               5.4259  \n",
       "3      41847.899700               0.9241  \n",
       "10       116.642000              15.4710  \n",
       "5          1.996000               1.0102  \n",
       "7      10778.904200               0.9627  \n",
       "8        167.377000               1.6701  "
      ]
     },
     "execution_count": 49,
     "metadata": {},
     "output_type": "execute_result"
    }
   ],
   "source": [
    "Results.sort_values(by=['rmse_validation'], ascending=True)"
   ]
  },
  {
   "cell_type": "code",
   "execution_count": 50,
   "metadata": {},
   "outputs": [
    {
     "data": {
      "image/png": "[encoded data removed]",
      "text/plain": [
       "<Figure size 1800x432 with 1 Axes>"
      ]
     },
     "metadata": {
      "needs_background": "light"
     },
     "output_type": "display_data"
    }
   ],
   "source": [
    "plt.figure(figsize=[25,6])\n",
    "xx = Results['Model']\n",
    "plt.tick_params(labelsize=14)\n",
    "plt.plot(xx, Results['rmse_validation'], label = 'rmse for validation set')\n",
    "\n",
    "plt.legend()\n",
    "#plt.title('RMSE for 13 popular models for validation dataset')\n",
    "plt.xlabel('Models')\n",
    "plt.ylabel('RMSE x100')\n",
    "plt.xticks(xx, rotation='vertical')\n",
    "plt.savefig('graph.png')\n",
    "plt.show()"
   ]
  },
  {
   "cell_type": "markdown",
   "metadata": {},
   "source": [
    "# the top 3 best models by rmse are :"
   ]
  },
  {
   "cell_type": "code",
   "execution_count": null,
   "metadata": {},
   "outputs": [],
   "source": []
  }
 ],
 "metadata": {
  "kernelspec": {
   "display_name": "Python 3",
   "language": "python",
   "name": "python3"
  },
  "language_info": {
   "codemirror_mode": {
    "name": "ipython",
    "version": 3
   },
   "file_extension": ".py",
   "mimetype": "text/x-python",
   "name": "python",
   "nbconvert_exporter": "python",
   "pygments_lexer": "ipython3",
   "version": "3.7.3"
  }
 },
 "nbformat": 4,
 "nbformat_minor": 2
}
