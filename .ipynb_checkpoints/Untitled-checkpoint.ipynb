{
 "cells": [
  {
   "cell_type": "code",
   "execution_count": 1,
   "metadata": {},
   "outputs": [],
   "source": [
    "import pandas as pd \n",
    "import numpy as np \n",
    "import matplotlib.pyplot as plt \n",
    "import seaborn as sns \n",
    "from pandas_profiling import ProfileReport as PR\n",
    "\n",
    "%matplotlib inline"
   ]
  },
  {
   "cell_type": "code",
   "execution_count": 2,
   "metadata": {},
   "outputs": [],
   "source": [
    "from time import time "
   ]
  },
  {
   "cell_type": "code",
   "execution_count": 3,
   "metadata": {},
   "outputs": [],
   "source": [
    "from hyperopt import STATUS_OK, Trials, fmin, hp, tpe, space_eval"
   ]
  },
  {
   "cell_type": "code",
   "execution_count": 4,
   "metadata": {},
   "outputs": [],
   "source": [
    "train = pd.read_csv(\"./prediction-bod-in-river-water/train.csv\")"
   ]
  },
  {
   "cell_type": "code",
   "execution_count": 5,
   "metadata": {},
   "outputs": [
    {
     "data": {
      "text/html": [
       "<div>\n",
       "<style scoped>\n",
       "    .dataframe tbody tr th:only-of-type {\n",
       "        vertical-align: middle;\n",
       "    }\n",
       "\n",
       "    .dataframe tbody tr th {\n",
       "        vertical-align: top;\n",
       "    }\n",
       "\n",
       "    .dataframe thead th {\n",
       "        text-align: right;\n",
       "    }\n",
       "</style>\n",
       "<table border=\"1\" class=\"dataframe\">\n",
       "  <thead>\n",
       "    <tr style=\"text-align: right;\">\n",
       "      <th></th>\n",
       "      <th>Id</th>\n",
       "      <th>target</th>\n",
       "      <th>1</th>\n",
       "      <th>2</th>\n",
       "      <th>3</th>\n",
       "      <th>4</th>\n",
       "      <th>5</th>\n",
       "      <th>6</th>\n",
       "      <th>7</th>\n",
       "    </tr>\n",
       "  </thead>\n",
       "  <tbody>\n",
       "    <tr>\n",
       "      <th>0</th>\n",
       "      <td>0</td>\n",
       "      <td>5.85</td>\n",
       "      <td>4.80</td>\n",
       "      <td>5.85</td>\n",
       "      <td>NaN</td>\n",
       "      <td>NaN</td>\n",
       "      <td>NaN</td>\n",
       "      <td>NaN</td>\n",
       "      <td>NaN</td>\n",
       "    </tr>\n",
       "    <tr>\n",
       "      <th>1</th>\n",
       "      <td>3</td>\n",
       "      <td>4.28</td>\n",
       "      <td>5.88</td>\n",
       "      <td>6.84</td>\n",
       "      <td>NaN</td>\n",
       "      <td>NaN</td>\n",
       "      <td>NaN</td>\n",
       "      <td>NaN</td>\n",
       "      <td>NaN</td>\n",
       "    </tr>\n",
       "    <tr>\n",
       "      <th>2</th>\n",
       "      <td>4</td>\n",
       "      <td>3.97</td>\n",
       "      <td>3.20</td>\n",
       "      <td>2.70</td>\n",
       "      <td>NaN</td>\n",
       "      <td>NaN</td>\n",
       "      <td>NaN</td>\n",
       "      <td>NaN</td>\n",
       "      <td>NaN</td>\n",
       "    </tr>\n",
       "    <tr>\n",
       "      <th>3</th>\n",
       "      <td>5</td>\n",
       "      <td>5.95</td>\n",
       "      <td>7.70</td>\n",
       "      <td>7.06</td>\n",
       "      <td>NaN</td>\n",
       "      <td>NaN</td>\n",
       "      <td>NaN</td>\n",
       "      <td>NaN</td>\n",
       "      <td>NaN</td>\n",
       "    </tr>\n",
       "    <tr>\n",
       "      <th>4</th>\n",
       "      <td>6</td>\n",
       "      <td>4.70</td>\n",
       "      <td>5.50</td>\n",
       "      <td>5.30</td>\n",
       "      <td>NaN</td>\n",
       "      <td>NaN</td>\n",
       "      <td>NaN</td>\n",
       "      <td>NaN</td>\n",
       "      <td>NaN</td>\n",
       "    </tr>\n",
       "  </tbody>\n",
       "</table>\n",
       "</div>"
      ],
      "text/plain": [
       "   Id  target     1     2   3   4   5   6   7\n",
       "0   0    5.85  4.80  5.85 NaN NaN NaN NaN NaN\n",
       "1   3    4.28  5.88  6.84 NaN NaN NaN NaN NaN\n",
       "2   4    3.97  3.20  2.70 NaN NaN NaN NaN NaN\n",
       "3   5    5.95  7.70  7.06 NaN NaN NaN NaN NaN\n",
       "4   6    4.70  5.50  5.30 NaN NaN NaN NaN NaN"
      ]
     },
     "execution_count": 5,
     "metadata": {},
     "output_type": "execute_result"
    }
   ],
   "source": [
    "train.head()"
   ]
  },
  {
   "cell_type": "code",
   "execution_count": 6,
   "metadata": {},
   "outputs": [],
   "source": [
    "test = pd.read_csv(\"./prediction-bod-in-river-water/test.csv\")"
   ]
  },
  {
   "cell_type": "code",
   "execution_count": 7,
   "metadata": {},
   "outputs": [
    {
     "data": {
      "text/html": [
       "<div>\n",
       "<style scoped>\n",
       "    .dataframe tbody tr th:only-of-type {\n",
       "        vertical-align: middle;\n",
       "    }\n",
       "\n",
       "    .dataframe tbody tr th {\n",
       "        vertical-align: top;\n",
       "    }\n",
       "\n",
       "    .dataframe thead th {\n",
       "        text-align: right;\n",
       "    }\n",
       "</style>\n",
       "<table border=\"1\" class=\"dataframe\">\n",
       "  <thead>\n",
       "    <tr style=\"text-align: right;\">\n",
       "      <th></th>\n",
       "      <th>Id</th>\n",
       "      <th>1</th>\n",
       "      <th>2</th>\n",
       "      <th>3</th>\n",
       "      <th>4</th>\n",
       "      <th>5</th>\n",
       "      <th>6</th>\n",
       "      <th>7</th>\n",
       "    </tr>\n",
       "  </thead>\n",
       "  <tbody>\n",
       "    <tr>\n",
       "      <th>0</th>\n",
       "      <td>1</td>\n",
       "      <td>6.80</td>\n",
       "      <td>5.40</td>\n",
       "      <td>NaN</td>\n",
       "      <td>NaN</td>\n",
       "      <td>NaN</td>\n",
       "      <td>NaN</td>\n",
       "      <td>NaN</td>\n",
       "    </tr>\n",
       "    <tr>\n",
       "      <th>1</th>\n",
       "      <td>2</td>\n",
       "      <td>4.71</td>\n",
       "      <td>4.20</td>\n",
       "      <td>NaN</td>\n",
       "      <td>NaN</td>\n",
       "      <td>NaN</td>\n",
       "      <td>NaN</td>\n",
       "      <td>NaN</td>\n",
       "    </tr>\n",
       "    <tr>\n",
       "      <th>2</th>\n",
       "      <td>32</td>\n",
       "      <td>2.10</td>\n",
       "      <td>3.40</td>\n",
       "      <td>NaN</td>\n",
       "      <td>NaN</td>\n",
       "      <td>NaN</td>\n",
       "      <td>NaN</td>\n",
       "      <td>NaN</td>\n",
       "    </tr>\n",
       "    <tr>\n",
       "      <th>3</th>\n",
       "      <td>40</td>\n",
       "      <td>5.35</td>\n",
       "      <td>5.85</td>\n",
       "      <td>NaN</td>\n",
       "      <td>NaN</td>\n",
       "      <td>NaN</td>\n",
       "      <td>NaN</td>\n",
       "      <td>NaN</td>\n",
       "    </tr>\n",
       "    <tr>\n",
       "      <th>4</th>\n",
       "      <td>43</td>\n",
       "      <td>4.80</td>\n",
       "      <td>5.30</td>\n",
       "      <td>NaN</td>\n",
       "      <td>NaN</td>\n",
       "      <td>NaN</td>\n",
       "      <td>NaN</td>\n",
       "      <td>NaN</td>\n",
       "    </tr>\n",
       "  </tbody>\n",
       "</table>\n",
       "</div>"
      ],
      "text/plain": [
       "   Id     1     2   3   4   5   6   7\n",
       "0   1  6.80  5.40 NaN NaN NaN NaN NaN\n",
       "1   2  4.71  4.20 NaN NaN NaN NaN NaN\n",
       "2  32  2.10  3.40 NaN NaN NaN NaN NaN\n",
       "3  40  5.35  5.85 NaN NaN NaN NaN NaN\n",
       "4  43  4.80  5.30 NaN NaN NaN NaN NaN"
      ]
     },
     "execution_count": 7,
     "metadata": {},
     "output_type": "execute_result"
    }
   ],
   "source": [
    "test.head()"
   ]
  },
  {
   "cell_type": "code",
   "execution_count": 8,
   "metadata": {},
   "outputs": [
    {
     "data": {
      "application/vnd.jupyter.widget-view+json": {
       "model_id": "da9f01cf7c344e81be4f2e5a363ac663",
       "version_major": 2,
       "version_minor": 0
      },
      "text/plain": [
       "HBox(children=(FloatProgress(value=0.0, description='variables', max=9.0, style=ProgressStyle(description_widt…"
      ]
     },
     "metadata": {},
     "output_type": "display_data"
    },
    {
     "name": "stdout",
     "output_type": "stream",
     "text": [
      "\n"
     ]
    },
    {
     "data": {
      "application/vnd.jupyter.widget-view+json": {
       "model_id": "baa163c2aae4466dae6f10f937954301",
       "version_major": 2,
       "version_minor": 0
      },
      "text/plain": [
       "HBox(children=(FloatProgress(value=0.0, description='correlations', max=6.0, style=ProgressStyle(description_w…"
      ]
     },
     "metadata": {},
     "output_type": "display_data"
    },
    {
     "name": "stdout",
     "output_type": "stream",
     "text": [
      "\n"
     ]
    },
    {
     "data": {
      "application/vnd.jupyter.widget-view+json": {
       "model_id": "f29a551c86fa41fb86e361971e891959",
       "version_major": 2,
       "version_minor": 0
      },
      "text/plain": [
       "HBox(children=(FloatProgress(value=0.0, description='interactions [continuous]', max=81.0, style=ProgressStyle…"
      ]
     },
     "metadata": {},
     "output_type": "display_data"
    },
    {
     "name": "stdout",
     "output_type": "stream",
     "text": [
      "\n"
     ]
    },
    {
     "data": {
      "application/vnd.jupyter.widget-view+json": {
       "model_id": "df55071423574b88897e737043cecf4c",
       "version_major": 2,
       "version_minor": 0
      },
      "text/plain": [
       "HBox(children=(FloatProgress(value=0.0, description='table', max=1.0, style=ProgressStyle(description_width='i…"
      ]
     },
     "metadata": {},
     "output_type": "display_data"
    },
    {
     "name": "stdout",
     "output_type": "stream",
     "text": [
      "\n"
     ]
    },
    {
     "data": {
      "application/vnd.jupyter.widget-view+json": {
       "model_id": "addc6cd7a6da46689a4bd5deca5b76da",
       "version_major": 2,
       "version_minor": 0
      },
      "text/plain": [
       "HBox(children=(FloatProgress(value=0.0, description='missing', max=4.0, style=ProgressStyle(description_width=…"
      ]
     },
     "metadata": {},
     "output_type": "display_data"
    },
    {
     "name": "stdout",
     "output_type": "stream",
     "text": [
      "\n"
     ]
    },
    {
     "data": {
      "application/vnd.jupyter.widget-view+json": {
       "model_id": "abfc9f1047d148b28b81a0522eb22dc4",
       "version_major": 2,
       "version_minor": 0
      },
      "text/plain": [
       "HBox(children=(FloatProgress(value=0.0, description='warnings', max=3.0, style=ProgressStyle(description_width…"
      ]
     },
     "metadata": {},
     "output_type": "display_data"
    },
    {
     "name": "stdout",
     "output_type": "stream",
     "text": [
      "\n"
     ]
    },
    {
     "data": {
      "application/vnd.jupyter.widget-view+json": {
       "model_id": "7a86b02187f6452c9583454b749784d5",
       "version_major": 2,
       "version_minor": 0
      },
      "text/plain": [
       "HBox(children=(FloatProgress(value=0.0, description='package', max=1.0, style=ProgressStyle(description_width=…"
      ]
     },
     "metadata": {},
     "output_type": "display_data"
    },
    {
     "name": "stdout",
     "output_type": "stream",
     "text": [
      "\n"
     ]
    },
    {
     "data": {
      "application/vnd.jupyter.widget-view+json": {
       "model_id": "9c1bf9be1edc432d84e237ddf6279797",
       "version_major": 2,
       "version_minor": 0
      },
      "text/plain": [
       "HBox(children=(FloatProgress(value=0.0, description='build report structure', max=1.0, style=ProgressStyle(des…"
      ]
     },
     "metadata": {},
     "output_type": "display_data"
    },
    {
     "name": "stdout",
     "output_type": "stream",
     "text": [
      "\n"
     ]
    }
   ],
   "source": [
    "train_report = PR(train, minimal=False) "
   ]
  },
  {
   "cell_type": "code",
   "execution_count": 9,
   "metadata": {},
   "outputs": [
    {
     "data": {
      "application/vnd.jupyter.widget-view+json": {
       "model_id": "4e6b52cce4444c9ea2a08e1118c2815e",
       "version_major": 2,
       "version_minor": 0
      },
      "text/plain": [
       "HBox(children=(FloatProgress(value=0.0, description='variables', max=8.0, style=ProgressStyle(description_widt…"
      ]
     },
     "metadata": {},
     "output_type": "display_data"
    },
    {
     "name": "stdout",
     "output_type": "stream",
     "text": [
      "\n"
     ]
    },
    {
     "data": {
      "application/vnd.jupyter.widget-view+json": {
       "model_id": "30e45ac231514da3ab2a4f55534b336d",
       "version_major": 2,
       "version_minor": 0
      },
      "text/plain": [
       "HBox(children=(FloatProgress(value=0.0, description='correlations', max=6.0, style=ProgressStyle(description_w…"
      ]
     },
     "metadata": {},
     "output_type": "display_data"
    },
    {
     "name": "stdout",
     "output_type": "stream",
     "text": [
      "\n"
     ]
    },
    {
     "data": {
      "application/vnd.jupyter.widget-view+json": {
       "model_id": "5c167af54eef4e499f0a8e42bcd6d358",
       "version_major": 2,
       "version_minor": 0
      },
      "text/plain": [
       "HBox(children=(FloatProgress(value=0.0, description='interactions [continuous]', max=64.0, style=ProgressStyle…"
      ]
     },
     "metadata": {},
     "output_type": "display_data"
    },
    {
     "name": "stdout",
     "output_type": "stream",
     "text": [
      "\n"
     ]
    },
    {
     "data": {
      "application/vnd.jupyter.widget-view+json": {
       "model_id": "bbc77e06613f4d7590e07651437bd1cb",
       "version_major": 2,
       "version_minor": 0
      },
      "text/plain": [
       "HBox(children=(FloatProgress(value=0.0, description='table', max=1.0, style=ProgressStyle(description_width='i…"
      ]
     },
     "metadata": {},
     "output_type": "display_data"
    },
    {
     "name": "stdout",
     "output_type": "stream",
     "text": [
      "\n"
     ]
    },
    {
     "data": {
      "application/vnd.jupyter.widget-view+json": {
       "model_id": "41abf36798ba45499b09befda41001f8",
       "version_major": 2,
       "version_minor": 0
      },
      "text/plain": [
       "HBox(children=(FloatProgress(value=0.0, description='missing', max=4.0, style=ProgressStyle(description_width=…"
      ]
     },
     "metadata": {},
     "output_type": "display_data"
    },
    {
     "name": "stdout",
     "output_type": "stream",
     "text": [
      "\n"
     ]
    },
    {
     "data": {
      "application/vnd.jupyter.widget-view+json": {
       "model_id": "dce029e8fd0347869960a9cf795ef7f2",
       "version_major": 2,
       "version_minor": 0
      },
      "text/plain": [
       "HBox(children=(FloatProgress(value=0.0, description='warnings', max=3.0, style=ProgressStyle(description_width…"
      ]
     },
     "metadata": {},
     "output_type": "display_data"
    },
    {
     "name": "stdout",
     "output_type": "stream",
     "text": [
      "\n"
     ]
    },
    {
     "data": {
      "application/vnd.jupyter.widget-view+json": {
       "model_id": "7ed1639d5daa4c948fb8cd42197d17a1",
       "version_major": 2,
       "version_minor": 0
      },
      "text/plain": [
       "HBox(children=(FloatProgress(value=0.0, description='package', max=1.0, style=ProgressStyle(description_width=…"
      ]
     },
     "metadata": {},
     "output_type": "display_data"
    },
    {
     "name": "stdout",
     "output_type": "stream",
     "text": [
      "\n"
     ]
    },
    {
     "data": {
      "application/vnd.jupyter.widget-view+json": {
       "model_id": "a53fd952f9f9419ca32f50f1c5f41d94",
       "version_major": 2,
       "version_minor": 0
      },
      "text/plain": [
       "HBox(children=(FloatProgress(value=0.0, description='build report structure', max=1.0, style=ProgressStyle(des…"
      ]
     },
     "metadata": {},
     "output_type": "display_data"
    },
    {
     "name": "stdout",
     "output_type": "stream",
     "text": [
      "\n"
     ]
    }
   ],
   "source": [
    "test_report = PR(test, minimal=False)"
   ]
  },
  {
   "cell_type": "code",
   "execution_count": 10,
   "metadata": {},
   "outputs": [
    {
     "data": {
      "application/vnd.jupyter.widget-view+json": {
       "model_id": "a10d7a43ee804b19bb322cf9d55db575",
       "version_major": 2,
       "version_minor": 0
      },
      "text/plain": [
       "Tab(children=(Tab(children=(GridBox(children=(VBox(children=(GridspecLayout(children=(HTML(value='Number of va…"
      ]
     },
     "metadata": {},
     "output_type": "display_data"
    },
    {
     "data": {
      "text/html": [
       "Report generated with <a href=\"https://github.com/pandas-profiling/pandas-profiling\">pandas-profiling</a>."
      ],
      "text/plain": [
       "<IPython.core.display.HTML object>"
      ]
     },
     "metadata": {},
     "output_type": "display_data"
    },
    {
     "data": {
      "application/vnd.jupyter.widget-view+json": {
       "model_id": "a7b71b2aaa6c49d88968182df5889a8d",
       "version_major": 2,
       "version_minor": 0
      },
      "text/plain": [
       "Tab(children=(Tab(children=(GridBox(children=(VBox(children=(GridspecLayout(children=(HTML(value='Number of va…"
      ]
     },
     "metadata": {},
     "output_type": "display_data"
    },
    {
     "data": {
      "text/html": [
       "Report generated with <a href=\"https://github.com/pandas-profiling/pandas-profiling\">pandas-profiling</a>."
      ],
      "text/plain": [
       "<IPython.core.display.HTML object>"
      ]
     },
     "metadata": {},
     "output_type": "display_data"
    }
   ],
   "source": [
    "train_report.to_widgets()\n",
    "test_report.to_widgets()"
   ]
  },
  {
   "cell_type": "code",
   "execution_count": 11,
   "metadata": {},
   "outputs": [],
   "source": [
    "train_report.to_file(\"Train_Report.html\")"
   ]
  },
  {
   "cell_type": "code",
   "execution_count": 12,
   "metadata": {},
   "outputs": [],
   "source": [
    "test_report.to_file(\"Test_Report.html\")"
   ]
  },
  {
   "cell_type": "code",
   "execution_count": 13,
   "metadata": {},
   "outputs": [],
   "source": [
    "to_drop = [\"Id\"]+[str(i) for i in range(3,8)]\n",
    "train_t = train.drop(to_drop, axis=1)"
   ]
  },
  {
   "cell_type": "code",
   "execution_count": 14,
   "metadata": {},
   "outputs": [
    {
     "name": "stdout",
     "output_type": "stream",
     "text": [
      "<class 'pandas.core.frame.DataFrame'>\n",
      "RangeIndex: 147 entries, 0 to 146\n",
      "Data columns (total 3 columns):\n",
      "target    147 non-null float64\n",
      "1         145 non-null float64\n",
      "2         145 non-null float64\n",
      "dtypes: float64(3)\n",
      "memory usage: 3.6 KB\n"
     ]
    }
   ],
   "source": [
    "train_t.info()"
   ]
  },
  {
   "cell_type": "code",
   "execution_count": 15,
   "metadata": {},
   "outputs": [
    {
     "name": "stdout",
     "output_type": "stream",
     "text": [
      "<class 'pandas.core.frame.DataFrame'>\n",
      "Int64Index: 144 entries, 0 to 146\n",
      "Data columns (total 3 columns):\n",
      "target    144 non-null float64\n",
      "1         144 non-null float64\n",
      "2         144 non-null float64\n",
      "dtypes: float64(3)\n",
      "memory usage: 4.5 KB\n"
     ]
    }
   ],
   "source": [
    "train_t = train_t.dropna()\n",
    "train_t.info()"
   ]
  },
  {
   "cell_type": "code",
   "execution_count": 16,
   "metadata": {},
   "outputs": [
    {
     "data": {
      "text/html": [
       "<div>\n",
       "<style scoped>\n",
       "    .dataframe tbody tr th:only-of-type {\n",
       "        vertical-align: middle;\n",
       "    }\n",
       "\n",
       "    .dataframe tbody tr th {\n",
       "        vertical-align: top;\n",
       "    }\n",
       "\n",
       "    .dataframe thead th {\n",
       "        text-align: right;\n",
       "    }\n",
       "</style>\n",
       "<table border=\"1\" class=\"dataframe\">\n",
       "  <thead>\n",
       "    <tr style=\"text-align: right;\">\n",
       "      <th></th>\n",
       "      <th>target</th>\n",
       "      <th>1</th>\n",
       "      <th>2</th>\n",
       "    </tr>\n",
       "  </thead>\n",
       "  <tbody>\n",
       "    <tr>\n",
       "      <th>0</th>\n",
       "      <td>5.85</td>\n",
       "      <td>4.80</td>\n",
       "      <td>5.85</td>\n",
       "    </tr>\n",
       "    <tr>\n",
       "      <th>1</th>\n",
       "      <td>4.28</td>\n",
       "      <td>5.88</td>\n",
       "      <td>6.84</td>\n",
       "    </tr>\n",
       "    <tr>\n",
       "      <th>2</th>\n",
       "      <td>3.97</td>\n",
       "      <td>3.20</td>\n",
       "      <td>2.70</td>\n",
       "    </tr>\n",
       "    <tr>\n",
       "      <th>3</th>\n",
       "      <td>5.95</td>\n",
       "      <td>7.70</td>\n",
       "      <td>7.06</td>\n",
       "    </tr>\n",
       "    <tr>\n",
       "      <th>4</th>\n",
       "      <td>4.70</td>\n",
       "      <td>5.50</td>\n",
       "      <td>5.30</td>\n",
       "    </tr>\n",
       "  </tbody>\n",
       "</table>\n",
       "</div>"
      ],
      "text/plain": [
       "   target     1     2\n",
       "0    5.85  4.80  5.85\n",
       "1    4.28  5.88  6.84\n",
       "2    3.97  3.20  2.70\n",
       "3    5.95  7.70  7.06\n",
       "4    4.70  5.50  5.30"
      ]
     },
     "execution_count": 16,
     "metadata": {},
     "output_type": "execute_result"
    }
   ],
   "source": [
    "train_t.head()"
   ]
  },
  {
   "cell_type": "code",
   "execution_count": 17,
   "metadata": {},
   "outputs": [],
   "source": [
    "# preprocessing\n",
    "from sklearn.preprocessing import LabelEncoder, StandardScaler\n",
    "from sklearn.model_selection import train_test_split, cross_val_score, GridSearchCV, StratifiedKFold"
   ]
  },
  {
   "cell_type": "code",
   "execution_count": 18,
   "metadata": {},
   "outputs": [],
   "source": [
    "target = train_t[\"target\"]\n",
    "features = train_t.drop(\"target\", axis=1)\n",
    "SS = StandardScaler()\n",
    "features = pd.DataFrame(SS.fit_transform(features), columns= features.columns)"
   ]
  },
  {
   "cell_type": "code",
   "execution_count": 19,
   "metadata": {},
   "outputs": [
    {
     "data": {
      "text/html": [
       "<div>\n",
       "<style scoped>\n",
       "    .dataframe tbody tr th:only-of-type {\n",
       "        vertical-align: middle;\n",
       "    }\n",
       "\n",
       "    .dataframe tbody tr th {\n",
       "        vertical-align: top;\n",
       "    }\n",
       "\n",
       "    .dataframe thead th {\n",
       "        text-align: right;\n",
       "    }\n",
       "</style>\n",
       "<table border=\"1\" class=\"dataframe\">\n",
       "  <thead>\n",
       "    <tr style=\"text-align: right;\">\n",
       "      <th></th>\n",
       "      <th>1</th>\n",
       "      <th>2</th>\n",
       "    </tr>\n",
       "  </thead>\n",
       "  <tbody>\n",
       "    <tr>\n",
       "      <th>0</th>\n",
       "      <td>-0.085038</td>\n",
       "      <td>0.464653</td>\n",
       "    </tr>\n",
       "    <tr>\n",
       "      <th>1</th>\n",
       "      <td>0.443331</td>\n",
       "      <td>0.963267</td>\n",
       "    </tr>\n",
       "    <tr>\n",
       "      <th>2</th>\n",
       "      <td>-0.867807</td>\n",
       "      <td>-1.121847</td>\n",
       "    </tr>\n",
       "    <tr>\n",
       "      <th>3</th>\n",
       "      <td>1.333732</td>\n",
       "      <td>1.074070</td>\n",
       "    </tr>\n",
       "    <tr>\n",
       "      <th>4</th>\n",
       "      <td>0.257424</td>\n",
       "      <td>0.187645</td>\n",
       "    </tr>\n",
       "  </tbody>\n",
       "</table>\n",
       "</div>"
      ],
      "text/plain": [
       "          1         2\n",
       "0 -0.085038  0.464653\n",
       "1  0.443331  0.963267\n",
       "2 -0.867807 -1.121847\n",
       "3  1.333732  1.074070\n",
       "4  0.257424  0.187645"
      ]
     },
     "execution_count": 19,
     "metadata": {},
     "output_type": "execute_result"
    }
   ],
   "source": [
    "features.head()"
   ]
  },
  {
   "cell_type": "code",
   "execution_count": 20,
   "metadata": {},
   "outputs": [],
   "source": [
    "train_f, vald_f, train_target, vald_target = train_test_split(features, target, test_size=0.3, random_state=0)"
   ]
  },
  {
   "cell_type": "code",
   "execution_count": 21,
   "metadata": {},
   "outputs": [],
   "source": [
    "# we ll be evaluating models performance using RMSE and R-squired matrics for validation set\n",
    "acc_rmse_list = []\n",
    "acc_r2_list = []"
   ]
  },
  {
   "cell_type": "code",
   "execution_count": 22,
   "metadata": {},
   "outputs": [],
   "source": [
    "train_time_list = []\n",
    "val_time_list = []"
   ]
  },
  {
   "cell_type": "code",
   "execution_count": 23,
   "metadata": {},
   "outputs": [],
   "source": [
    "from sklearn.metrics import r2_score, mean_squared_error"
   ]
  },
  {
   "cell_type": "code",
   "execution_count": 24,
   "metadata": {},
   "outputs": [],
   "source": [
    "# RMSE between predicted y_pred and measured y_meas values\n",
    "def acc_rmse(y_meas, y_pred):\n",
    "    x = mean_squared_error(y_meas, y_pred)**0.5\n",
    "    return round(x*100, 2)"
   ]
  },
  {
   "cell_type": "code",
   "execution_count": 25,
   "metadata": {},
   "outputs": [],
   "source": [
    "#r2 represent the amount of variace explained by the two features\n",
    "def acc_r2(y_meas, y_pred):\n",
    "    x = r2_score(y_meas, y_pred)\n",
    "    return round(x*100, 2)"
   ]
  },
  {
   "cell_type": "code",
   "execution_count": 26,
   "metadata": {},
   "outputs": [],
   "source": [
    "def acc_model(model, validation_set= vald_f ,num_iteration= 0.0):\n",
    "    \n",
    "    global Results\n",
    "    global vald_target\n",
    "    global acc_rmse_list, acc_r2_list, val_time_list\n",
    "    global train_time \n",
    "    \n",
    "    if num_iteration > 0: \n",
    "        t0 = time()\n",
    "        y_vald = model.predict(validation_set, num_iteration = num_iteration)\n",
    "        Val_time = round((time()-t0)*1000, 4)\n",
    "    else:\n",
    "        t0 = time()\n",
    "        y_vald = model.predict(validation_set)\n",
    "        Val_time = round((time()-t0)*1000, 4)\n",
    "        \n",
    "    print(\"Validition Time = \", Val_time, \"ms\")    \n",
    "        \n",
    "    m_acc_rmse = acc_rmse(vald_target, y_vald)\n",
    "    m_acc_r2 = acc_r2(vald_target, y_vald)\n",
    "    \n",
    "    print(\"rmse for validation set is: \", m_acc_rmse)\n",
    "    print(\"r2 score for validation set is: \", m_acc_r2)\n",
    "    \n",
    "    acc_rmse_list.append(m_acc_rmse)\n",
    "    acc_r2_list.append(m_acc_r2)\n",
    "    val_time_list.append(Val_time)\n",
    "    "
   ]
  },
  {
   "cell_type": "code",
   "execution_count": 27,
   "metadata": {},
   "outputs": [],
   "source": [
    "def fit_model(model):\n",
    "    \n",
    "    global train_time_list\n",
    "    global train_f, train_target\n",
    "    \n",
    "    t0 = time()\n",
    "    model.fit(train_f, train_target)\n",
    "    train_time = round((time()-t0)*1000, 4)\n",
    "\n",
    "    print(\"Training Time = \", train_time, \"ms\")\n",
    "    train_time_list.append(train_time)\n",
    "    "
   ]
  },
  {
   "cell_type": "code",
   "execution_count": 28,
   "metadata": {},
   "outputs": [
    {
     "name": "stdout",
     "output_type": "stream",
     "text": [
      "Training Time =  1.6851 ms\n",
      "Validition Time =  0.7021 ms\n",
      "rmse for validation set is:  138.13\n",
      "r2 score for validation set is:  54.23\n"
     ]
    }
   ],
   "source": [
    "# Linear Regression\n",
    "from sklearn.linear_model import LinearRegression\n",
    "\n",
    "linreg = LinearRegression()\n",
    "fit_model(linreg)\n",
    "acc_model(linreg)"
   ]
  },
  {
   "cell_type": "code",
   "execution_count": 29,
   "metadata": {},
   "outputs": [
    {
     "data": {
      "text/plain": [
       "[54.23]"
      ]
     },
     "execution_count": 29,
     "metadata": {},
     "output_type": "execute_result"
    }
   ],
   "source": [
    "acc_r2_list"
   ]
  },
  {
   "cell_type": "code",
   "execution_count": 30,
   "metadata": {},
   "outputs": [
    {
     "name": "stdout",
     "output_type": "stream",
     "text": [
      "Training Time =  2.4498 ms\n",
      "Validition Time =  1.7459 ms\n",
      "rmse for validation set is:  145.53\n",
      "r2 score for validation set is:  49.2\n"
     ]
    }
   ],
   "source": [
    "# Support Vector Machines\n",
    "from sklearn.svm import SVR\n",
    "\n",
    "svr = SVR()\n",
    "fit_model(svr)\n",
    "acc_model(svr)"
   ]
  },
  {
   "cell_type": "code",
   "execution_count": 31,
   "metadata": {},
   "outputs": [
    {
     "name": "stdout",
     "output_type": "stream",
     "text": [
      "Training Time =  1.6048 ms\n",
      "Validition Time =  0.9143 ms\n",
      "rmse for validation set is:  144.04\n",
      "r2 score for validation set is:  50.23\n"
     ]
    }
   ],
   "source": [
    "# Linear SVR\n",
    "from sklearn.svm import LinearSVR\n",
    "\n",
    "linear_svr = LinearSVR()\n",
    "fit_model(linear_svr)\n",
    "acc_model(linear_svr)"
   ]
  },
  {
   "cell_type": "code",
   "execution_count": 32,
   "metadata": {},
   "outputs": [
    {
     "name": "stdout",
     "output_type": "stream",
     "text": [
      "Fitting 10 folds for each of 18 candidates, totalling 180 fits\n"
     ]
    },
    {
     "name": "stderr",
     "output_type": "stream",
     "text": [
      "[Parallel(n_jobs=1)]: Using backend SequentialBackend with 1 concurrent workers.\n",
      "[Parallel(n_jobs=1)]: Done 180 out of 180 | elapsed:   43.8s finished\n"
     ]
    },
    {
     "name": "stdout",
     "output_type": "stream",
     "text": [
      "Training Time =  44041.0728 ms\n",
      "Validition Time =  1.0562 ms\n",
      "rmse for validation set is:  169.09\n",
      "r2 score for validation set is:  31.42\n"
     ]
    }
   ],
   "source": [
    "# MLPRegressor\n",
    "from sklearn.neural_network import MLPRegressor\n",
    "\n",
    "mlp = MLPRegressor()\n",
    "param_grid = {'hidden_layer_sizes': [i for i in range(2,20)],\n",
    "              'activation': ['relu'],\n",
    "              'solver': ['adam'],\n",
    "              'learning_rate': ['constant'],\n",
    "              'learning_rate_init': [0.01],\n",
    "              'power_t': [0.5],\n",
    "              'alpha': [0.0001],\n",
    "              'max_iter': [1000],\n",
    "              'early_stopping': [True],\n",
    "              'warm_start': [False]}\n",
    "\n",
    "mlp_GS = GridSearchCV(mlp, param_grid=param_grid, \n",
    "                   cv=10, verbose=True, pre_dispatch='2*n_jobs')\n",
    "\n",
    "fit_model(mlp_GS)\n",
    "\n",
    "acc_model(mlp_GS)"
   ]
  },
  {
   "cell_type": "code",
   "execution_count": 33,
   "metadata": {},
   "outputs": [
    {
     "name": "stdout",
     "output_type": "stream",
     "text": [
      "Training Time =  2.9738 ms\n",
      "Validition Time =  1.4708 ms\n",
      "rmse for validation set is:  139.74\n",
      "r2 score for validation set is:  53.16\n"
     ]
    }
   ],
   "source": [
    "# Stochastic Gradient Descent\n",
    "from sklearn.linear_model import SGDRegressor\n",
    "\n",
    "sgd = SGDRegressor()\n",
    "fit_model(sgd)\n",
    "acc_model(sgd)"
   ]
  },
  {
   "cell_type": "code",
   "execution_count": 34,
   "metadata": {},
   "outputs": [
    {
     "name": "stdout",
     "output_type": "stream",
     "text": [
      "Training Time =  2.316 ms\n",
      "Validition Time =  0.962 ms\n",
      "rmse for validation set is:  152.77\n",
      "r2 score for validation set is:  44.02\n"
     ]
    }
   ],
   "source": [
    "# Decision Tree Regression\n",
    "from sklearn.tree import DecisionTreeRegressor\n",
    "\n",
    "decision_tree = DecisionTreeRegressor()\n",
    "fit_model(decision_tree)\n",
    "acc_model(decision_tree)"
   ]
  },
  {
   "cell_type": "code",
   "execution_count": 35,
   "metadata": {},
   "outputs": [
    {
     "name": "stdout",
     "output_type": "stream",
     "text": [
      "Training Time =  27.5891 ms\n",
      "Validition Time =  5.7738 ms\n",
      "rmse for validation set is:  152.64\n",
      "r2 score for validation set is:  44.11\n"
     ]
    }
   ],
   "source": [
    "# Bagging Regressor\n",
    "from sklearn.ensemble import BaggingRegressor\n",
    "\n",
    "bagging = BaggingRegressor() #the base estimator is a decision tree.\n",
    "fit_model(bagging)\n",
    "acc_model(bagging)"
   ]
  },
  {
   "cell_type": "code",
   "execution_count": 36,
   "metadata": {},
   "outputs": [
    {
     "name": "stdout",
     "output_type": "stream",
     "text": [
      "Training Time =  11071.0928 ms\n",
      "{'n_estimators': 1000}\n",
      "Validition Time =  0.8881 ms\n",
      "rmse for validation set is:  152.77\n",
      "r2 score for validation set is:  44.02\n"
     ]
    }
   ],
   "source": [
    "# Random Forest\n",
    "from sklearn.ensemble import RandomForestRegressor\n",
    "\n",
    "random_forest = GridSearchCV(estimator=RandomForestRegressor(), param_grid={'n_estimators': [100, 1000]}, cv=5)\n",
    "fit_model(random_forest)\n",
    "print(random_forest.best_params_)\n",
    "\n",
    "acc_model(decision_tree)"
   ]
  },
  {
   "cell_type": "code",
   "execution_count": 37,
   "metadata": {},
   "outputs": [
    {
     "name": "stdout",
     "output_type": "stream",
     "text": [
      "-0.16647534048969068                                  \n",
      "{'max_depth': 6, 'n_estimators': 812}                 \n",
      "-0.07153051299673015                                                              \n",
      "{'max_depth': 3, 'n_estimators': 160}                                             \n",
      "-0.12272789563605269                                                              \n",
      "{'max_depth': 4, 'n_estimators': 993}                                             \n",
      "-0.14444041258608437                                                              \n",
      "{'max_depth': 4, 'n_estimators': 765}                                             \n",
      "-0.16139577171676942                                                              \n",
      "{'max_depth': 2, 'n_estimators': 877}                                             \n",
      "-0.12989960829736646                                                              \n",
      "{'max_depth': 4, 'n_estimators': 763}                                             \n",
      "-0.13697269014864372                                                              \n",
      "{'max_depth': 4, 'n_estimators': 694}                                             \n",
      "-0.059578943665862305                                                             \n",
      "{'max_depth': 8, 'n_estimators': 940}                                             \n",
      "-0.13214309441109795                                                              \n",
      "{'max_depth': 3, 'n_estimators': 528}                                             \n",
      "-0.13953465002525267                                                              \n",
      "{'max_depth': 2, 'n_estimators': 693}                                             \n",
      "100%|██████████| 10/10 [00:26<00:00,  2.67s/trial, best loss: -0.16647534048969068]\n",
      "best:\n",
      "{'max_depth': 4, 'n_estimators': 712}\n"
     ]
    }
   ],
   "source": [
    "#GradientBoostingRegressor with HyperOpt\n",
    "from sklearn.ensemble import  GradientBoostingRegressor\n",
    "\n",
    "def hyperopt_gb_score(params):\n",
    "    gbr = GradientBoostingRegressor(**params)\n",
    "    current_score = cross_val_score(gbr, train_f, train_target, cv=10).mean()\n",
    "    print(current_score, params)\n",
    "    return current_score \n",
    " \n",
    "space_gb = {\n",
    "            'n_estimators': hp.choice('n_estimators', range(100, 1000)),\n",
    "            'max_depth': hp.choice('max_depth', np.arange(2, 10, dtype=int))            \n",
    "        }\n",
    " \n",
    "best = fmin(fn=hyperopt_gb_score, space=space_gb, algo=tpe.suggest, max_evals=10)\n",
    "print('best:')\n",
    "print(best)"
   ]
  },
  {
   "cell_type": "code",
   "execution_count": 38,
   "metadata": {},
   "outputs": [
    {
     "data": {
      "text/plain": [
       "{'max_depth': 6, 'n_estimators': 812}"
      ]
     },
     "execution_count": 38,
     "metadata": {},
     "output_type": "execute_result"
    }
   ],
   "source": [
    "params = space_eval(space_gb, best)\n",
    "params\n",
    "#params[\"max_depth\"]=7 for some reason max_depth=7 gives less rmse !!!!! \n",
    "#params"
   ]
  },
  {
   "cell_type": "code",
   "execution_count": 39,
   "metadata": {},
   "outputs": [
    {
     "name": "stdout",
     "output_type": "stream",
     "text": [
      "Training Time =  286.6771 ms\n",
      "Validition Time =  1.7142 ms\n",
      "rmse for validation set is:  179.37\n",
      "r2 score for validation set is:  22.83\n"
     ]
    }
   ],
   "source": [
    "gradient_boosting = GradientBoostingRegressor(**params)\n",
    "fit_model(gradient_boosting)\n",
    "acc_model(gradient_boosting)"
   ]
  },
  {
   "cell_type": "code",
   "execution_count": 40,
   "metadata": {},
   "outputs": [
    {
     "name": "stdout",
     "output_type": "stream",
     "text": [
      "Training Time =  71.2731 ms\n",
      "Validition Time =  0.7312 ms\n",
      "rmse for validation set is:  138.71\n",
      "r2 score for validation set is:  53.85\n"
     ]
    }
   ],
   "source": [
    "# Ridge Regressor\n",
    "from sklearn.linear_model import RidgeCV\n",
    "\n",
    "ridge = RidgeCV(cv=5)\n",
    "fit_model(ridge)\n",
    "acc_model(ridge)"
   ]
  },
  {
   "cell_type": "code",
   "execution_count": 41,
   "metadata": {},
   "outputs": [
    {
     "name": "stdout",
     "output_type": "stream",
     "text": [
      "Training Time =  123.2612 ms\n",
      "Validition Time =  12.3742 ms\n",
      "rmse for validation set is:  160.66\n",
      "r2 score for validation set is:  38.09\n"
     ]
    }
   ],
   "source": [
    "# Extra Trees Regressor\n",
    "from sklearn.ensemble import ExtraTreesRegressor\n",
    "\n",
    "etr = ExtraTreesRegressor()\n",
    "fit_model(etr)\n",
    "acc_model(etr)"
   ]
  },
  {
   "cell_type": "code",
   "execution_count": 42,
   "metadata": {},
   "outputs": [
    {
     "name": "stdout",
     "output_type": "stream",
     "text": [
      "Training Time =  78.3937 ms\n",
      "Validition Time =  7.2422 ms\n",
      "rmse for validation set is:  158.5\n",
      "r2 score for validation set is:  39.74\n"
     ]
    }
   ],
   "source": [
    "# AdaBoost Regression\n",
    "from sklearn.ensemble import AdaBoostRegressor\n",
    "\n",
    "Ada_Boost = AdaBoostRegressor()\n",
    "fit_model(Ada_Boost)\n",
    "acc_model(Ada_Boost)"
   ]
  },
  {
   "cell_type": "code",
   "execution_count": 43,
   "metadata": {},
   "outputs": [
    {
     "name": "stdout",
     "output_type": "stream",
     "text": [
      "Training Time =  65.9201 ms\n",
      "Validition Time =  2.1267 ms\n",
      "rmse for validation set is:  138.8\n",
      "r2 score for validation set is:  53.79\n"
     ]
    }
   ],
   "source": [
    "#Voting Regressor\n",
    "from sklearn.ensemble import VotingRegressor\n",
    "\n",
    "Voting_Reg = VotingRegressor(estimators=[('lin', linreg), ('ridge', ridge), ('sgd', sgd)])\n",
    "fit_model(Voting_Reg)\n",
    "acc_model(Voting_Reg)"
   ]
  },
  {
   "cell_type": "code",
   "execution_count": 44,
   "metadata": {},
   "outputs": [],
   "source": [
    "#Light gradien boosting machine\n",
    "import lightgbm as lgb\n",
    "#split training set to validation set\n",
    "Xtrain, Xval, Ztrain, Zval = train_test_split(features, target, test_size=0.2, random_state=0)\n",
    "train_set = lgb.Dataset(Xtrain, Ztrain, silent=False)\n",
    "valid_set = lgb.Dataset(Xval, Zval, silent=False)"
   ]
  },
  {
   "cell_type": "code",
   "execution_count": 45,
   "metadata": {},
   "outputs": [
    {
     "name": "stdout",
     "output_type": "stream",
     "text": [
      "Training until validation scores don't improve for 2000 rounds\n",
      "[500]\tvalid_0's rmse: 1.65897\n",
      "[1000]\tvalid_0's rmse: 1.65897\n",
      "[1500]\tvalid_0's rmse: 1.65897\n",
      "[2000]\tvalid_0's rmse: 1.65897\n",
      "Early stopping, best iteration is:\n",
      "[177]\tvalid_0's rmse: 1.64042\n",
      "Training Time =  0.9420511722564697 ms\n"
     ]
    }
   ],
   "source": [
    "params = {\n",
    "        'boosting_type':'gbdt',\n",
    "        'objective': 'regression',\n",
    "        'num_leaves': 31,\n",
    "        'learning_rate': 0.01,\n",
    "        'max_depth': -1,\n",
    "        'subsample': 0.8,\n",
    "        'bagging_fraction' : 1,\n",
    "        'max_bin' : 5000 ,\n",
    "        'bagging_freq': 20,\n",
    "        'colsample_bytree': 0.6,\n",
    "        'metric': 'rmse',\n",
    "        'min_split_gain': 0.5,\n",
    "        'min_child_weight': 1,\n",
    "        'min_child_samples': 10,\n",
    "        'scale_pos_weight':1,\n",
    "        'zero_as_missing': False,\n",
    "        'seed':0,        \n",
    "    }\n",
    "\n",
    "t0 = time()\n",
    "modelL = lgb.train(params, train_set = train_set, num_boost_round=10000,\n",
    "                   early_stopping_rounds=2000,verbose_eval=500, valid_sets=valid_set)\n",
    "train_time = time()-t0\n",
    "\n",
    "print(\"Training Time = \",train_time, \"ms\")\n",
    "\n",
    "train_time_list.append(train_time)\n"
   ]
  },
  {
   "cell_type": "code",
   "execution_count": 46,
   "metadata": {},
   "outputs": [
    {
     "name": "stdout",
     "output_type": "stream",
     "text": [
      "Validition Time =  6.4211 ms\n",
      "rmse for validation set is:  138.11\n",
      "r2 score for validation set is:  54.25\n"
     ]
    }
   ],
   "source": [
    "acc_model(modelL,num_iteration=modelL.best_iteration)"
   ]
  },
  {
   "cell_type": "code",
   "execution_count": 47,
   "metadata": {},
   "outputs": [],
   "source": [
    "Results = pd.DataFrame({\n",
    "    'Model': ['Linear Regression', 'Support Vector Machines', 'Linear SVR', \n",
    "              'MLPRegressor', 'Stochastic Gradient Decent', \n",
    "              'Decision Tree Regressor', 'Random Forest',\n",
    "              'GradientBoostingRegressor', 'RidgeRegressor', 'BaggingRegressor', 'ExtraTreesRegressor', \n",
    "              'AdaBoostRegressor', 'VotingRegressor','lgbm'],\n",
    "    \n",
    "    'rmse_validation': acc_rmse_list,\n",
    "    'r2_validation': acc_r2_list,\n",
    "    'Train time - ms': train_time_list,\n",
    "    'validation time -ms': val_time_list\n",
    "                     })"
   ]
  },
  {
   "cell_type": "code",
   "execution_count": 48,
   "metadata": {},
   "outputs": [
    {
     "data": {
      "text/html": [
       "<div>\n",
       "<style scoped>\n",
       "    .dataframe tbody tr th:only-of-type {\n",
       "        vertical-align: middle;\n",
       "    }\n",
       "\n",
       "    .dataframe tbody tr th {\n",
       "        vertical-align: top;\n",
       "    }\n",
       "\n",
       "    .dataframe thead th {\n",
       "        text-align: right;\n",
       "    }\n",
       "</style>\n",
       "<table border=\"1\" class=\"dataframe\">\n",
       "  <thead>\n",
       "    <tr style=\"text-align: right;\">\n",
       "      <th></th>\n",
       "      <th>Model</th>\n",
       "      <th>rmse_validation</th>\n",
       "      <th>r2_validation</th>\n",
       "      <th>Train time - ms</th>\n",
       "      <th>validation time -ms</th>\n",
       "    </tr>\n",
       "  </thead>\n",
       "  <tbody>\n",
       "    <tr>\n",
       "      <th>0</th>\n",
       "      <td>Linear Regression</td>\n",
       "      <td>138.13</td>\n",
       "      <td>54.23</td>\n",
       "      <td>1.685100</td>\n",
       "      <td>0.7021</td>\n",
       "    </tr>\n",
       "    <tr>\n",
       "      <th>1</th>\n",
       "      <td>Support Vector Machines</td>\n",
       "      <td>145.53</td>\n",
       "      <td>49.20</td>\n",
       "      <td>2.449800</td>\n",
       "      <td>1.7459</td>\n",
       "    </tr>\n",
       "    <tr>\n",
       "      <th>2</th>\n",
       "      <td>Linear SVR</td>\n",
       "      <td>144.04</td>\n",
       "      <td>50.23</td>\n",
       "      <td>1.604800</td>\n",
       "      <td>0.9143</td>\n",
       "    </tr>\n",
       "    <tr>\n",
       "      <th>3</th>\n",
       "      <td>MLPRegressor</td>\n",
       "      <td>169.09</td>\n",
       "      <td>31.42</td>\n",
       "      <td>44041.072800</td>\n",
       "      <td>1.0562</td>\n",
       "    </tr>\n",
       "    <tr>\n",
       "      <th>4</th>\n",
       "      <td>Stochastic Gradient Decent</td>\n",
       "      <td>139.74</td>\n",
       "      <td>53.16</td>\n",
       "      <td>2.973800</td>\n",
       "      <td>1.4708</td>\n",
       "    </tr>\n",
       "    <tr>\n",
       "      <th>5</th>\n",
       "      <td>Decision Tree Regressor</td>\n",
       "      <td>152.77</td>\n",
       "      <td>44.02</td>\n",
       "      <td>2.316000</td>\n",
       "      <td>0.9620</td>\n",
       "    </tr>\n",
       "    <tr>\n",
       "      <th>6</th>\n",
       "      <td>Random Forest</td>\n",
       "      <td>152.64</td>\n",
       "      <td>44.11</td>\n",
       "      <td>27.589100</td>\n",
       "      <td>5.7738</td>\n",
       "    </tr>\n",
       "    <tr>\n",
       "      <th>7</th>\n",
       "      <td>GradientBoostingRegressor</td>\n",
       "      <td>152.77</td>\n",
       "      <td>44.02</td>\n",
       "      <td>11071.092800</td>\n",
       "      <td>0.8881</td>\n",
       "    </tr>\n",
       "    <tr>\n",
       "      <th>8</th>\n",
       "      <td>RidgeRegressor</td>\n",
       "      <td>179.37</td>\n",
       "      <td>22.83</td>\n",
       "      <td>286.677100</td>\n",
       "      <td>1.7142</td>\n",
       "    </tr>\n",
       "    <tr>\n",
       "      <th>9</th>\n",
       "      <td>BaggingRegressor</td>\n",
       "      <td>138.71</td>\n",
       "      <td>53.85</td>\n",
       "      <td>71.273100</td>\n",
       "      <td>0.7312</td>\n",
       "    </tr>\n",
       "    <tr>\n",
       "      <th>10</th>\n",
       "      <td>ExtraTreesRegressor</td>\n",
       "      <td>160.66</td>\n",
       "      <td>38.09</td>\n",
       "      <td>123.261200</td>\n",
       "      <td>12.3742</td>\n",
       "    </tr>\n",
       "    <tr>\n",
       "      <th>11</th>\n",
       "      <td>AdaBoostRegressor</td>\n",
       "      <td>158.50</td>\n",
       "      <td>39.74</td>\n",
       "      <td>78.393700</td>\n",
       "      <td>7.2422</td>\n",
       "    </tr>\n",
       "    <tr>\n",
       "      <th>12</th>\n",
       "      <td>VotingRegressor</td>\n",
       "      <td>138.80</td>\n",
       "      <td>53.79</td>\n",
       "      <td>65.920100</td>\n",
       "      <td>2.1267</td>\n",
       "    </tr>\n",
       "    <tr>\n",
       "      <th>13</th>\n",
       "      <td>lgbm</td>\n",
       "      <td>138.11</td>\n",
       "      <td>54.25</td>\n",
       "      <td>0.942051</td>\n",
       "      <td>6.4211</td>\n",
       "    </tr>\n",
       "  </tbody>\n",
       "</table>\n",
       "</div>"
      ],
      "text/plain": [
       "                         Model  rmse_validation  r2_validation  \\\n",
       "0            Linear Regression           138.13          54.23   \n",
       "1      Support Vector Machines           145.53          49.20   \n",
       "2                   Linear SVR           144.04          50.23   \n",
       "3                 MLPRegressor           169.09          31.42   \n",
       "4   Stochastic Gradient Decent           139.74          53.16   \n",
       "5      Decision Tree Regressor           152.77          44.02   \n",
       "6                Random Forest           152.64          44.11   \n",
       "7    GradientBoostingRegressor           152.77          44.02   \n",
       "8               RidgeRegressor           179.37          22.83   \n",
       "9             BaggingRegressor           138.71          53.85   \n",
       "10         ExtraTreesRegressor           160.66          38.09   \n",
       "11           AdaBoostRegressor           158.50          39.74   \n",
       "12             VotingRegressor           138.80          53.79   \n",
       "13                        lgbm           138.11          54.25   \n",
       "\n",
       "    Train time - ms  validation time -ms  \n",
       "0          1.685100               0.7021  \n",
       "1          2.449800               1.7459  \n",
       "2          1.604800               0.9143  \n",
       "3      44041.072800               1.0562  \n",
       "4          2.973800               1.4708  \n",
       "5          2.316000               0.9620  \n",
       "6         27.589100               5.7738  \n",
       "7      11071.092800               0.8881  \n",
       "8        286.677100               1.7142  \n",
       "9         71.273100               0.7312  \n",
       "10       123.261200              12.3742  \n",
       "11        78.393700               7.2422  \n",
       "12        65.920100               2.1267  \n",
       "13         0.942051               6.4211  "
      ]
     },
     "execution_count": 48,
     "metadata": {},
     "output_type": "execute_result"
    }
   ],
   "source": [
    "Results"
   ]
  },
  {
   "cell_type": "code",
   "execution_count": 49,
   "metadata": {},
   "outputs": [
    {
     "data": {
      "text/html": [
       "<div>\n",
       "<style scoped>\n",
       "    .dataframe tbody tr th:only-of-type {\n",
       "        vertical-align: middle;\n",
       "    }\n",
       "\n",
       "    .dataframe tbody tr th {\n",
       "        vertical-align: top;\n",
       "    }\n",
       "\n",
       "    .dataframe thead th {\n",
       "        text-align: right;\n",
       "    }\n",
       "</style>\n",
       "<table border=\"1\" class=\"dataframe\">\n",
       "  <thead>\n",
       "    <tr style=\"text-align: right;\">\n",
       "      <th></th>\n",
       "      <th>Model</th>\n",
       "      <th>rmse_validation</th>\n",
       "      <th>r2_validation</th>\n",
       "      <th>Train time - ms</th>\n",
       "      <th>validation time -ms</th>\n",
       "    </tr>\n",
       "  </thead>\n",
       "  <tbody>\n",
       "    <tr>\n",
       "      <th>13</th>\n",
       "      <td>lgbm</td>\n",
       "      <td>138.11</td>\n",
       "      <td>54.25</td>\n",
       "      <td>0.942051</td>\n",
       "      <td>6.4211</td>\n",
       "    </tr>\n",
       "    <tr>\n",
       "      <th>0</th>\n",
       "      <td>Linear Regression</td>\n",
       "      <td>138.13</td>\n",
       "      <td>54.23</td>\n",
       "      <td>1.685100</td>\n",
       "      <td>0.7021</td>\n",
       "    </tr>\n",
       "    <tr>\n",
       "      <th>9</th>\n",
       "      <td>BaggingRegressor</td>\n",
       "      <td>138.71</td>\n",
       "      <td>53.85</td>\n",
       "      <td>71.273100</td>\n",
       "      <td>0.7312</td>\n",
       "    </tr>\n",
       "    <tr>\n",
       "      <th>12</th>\n",
       "      <td>VotingRegressor</td>\n",
       "      <td>138.80</td>\n",
       "      <td>53.79</td>\n",
       "      <td>65.920100</td>\n",
       "      <td>2.1267</td>\n",
       "    </tr>\n",
       "    <tr>\n",
       "      <th>4</th>\n",
       "      <td>Stochastic Gradient Decent</td>\n",
       "      <td>139.74</td>\n",
       "      <td>53.16</td>\n",
       "      <td>2.973800</td>\n",
       "      <td>1.4708</td>\n",
       "    </tr>\n",
       "    <tr>\n",
       "      <th>2</th>\n",
       "      <td>Linear SVR</td>\n",
       "      <td>144.04</td>\n",
       "      <td>50.23</td>\n",
       "      <td>1.604800</td>\n",
       "      <td>0.9143</td>\n",
       "    </tr>\n",
       "    <tr>\n",
       "      <th>1</th>\n",
       "      <td>Support Vector Machines</td>\n",
       "      <td>145.53</td>\n",
       "      <td>49.20</td>\n",
       "      <td>2.449800</td>\n",
       "      <td>1.7459</td>\n",
       "    </tr>\n",
       "    <tr>\n",
       "      <th>6</th>\n",
       "      <td>Random Forest</td>\n",
       "      <td>152.64</td>\n",
       "      <td>44.11</td>\n",
       "      <td>27.589100</td>\n",
       "      <td>5.7738</td>\n",
       "    </tr>\n",
       "    <tr>\n",
       "      <th>5</th>\n",
       "      <td>Decision Tree Regressor</td>\n",
       "      <td>152.77</td>\n",
       "      <td>44.02</td>\n",
       "      <td>2.316000</td>\n",
       "      <td>0.9620</td>\n",
       "    </tr>\n",
       "    <tr>\n",
       "      <th>7</th>\n",
       "      <td>GradientBoostingRegressor</td>\n",
       "      <td>152.77</td>\n",
       "      <td>44.02</td>\n",
       "      <td>11071.092800</td>\n",
       "      <td>0.8881</td>\n",
       "    </tr>\n",
       "    <tr>\n",
       "      <th>11</th>\n",
       "      <td>AdaBoostRegressor</td>\n",
       "      <td>158.50</td>\n",
       "      <td>39.74</td>\n",
       "      <td>78.393700</td>\n",
       "      <td>7.2422</td>\n",
       "    </tr>\n",
       "    <tr>\n",
       "      <th>10</th>\n",
       "      <td>ExtraTreesRegressor</td>\n",
       "      <td>160.66</td>\n",
       "      <td>38.09</td>\n",
       "      <td>123.261200</td>\n",
       "      <td>12.3742</td>\n",
       "    </tr>\n",
       "    <tr>\n",
       "      <th>3</th>\n",
       "      <td>MLPRegressor</td>\n",
       "      <td>169.09</td>\n",
       "      <td>31.42</td>\n",
       "      <td>44041.072800</td>\n",
       "      <td>1.0562</td>\n",
       "    </tr>\n",
       "    <tr>\n",
       "      <th>8</th>\n",
       "      <td>RidgeRegressor</td>\n",
       "      <td>179.37</td>\n",
       "      <td>22.83</td>\n",
       "      <td>286.677100</td>\n",
       "      <td>1.7142</td>\n",
       "    </tr>\n",
       "  </tbody>\n",
       "</table>\n",
       "</div>"
      ],
      "text/plain": [
       "                         Model  rmse_validation  r2_validation  \\\n",
       "13                        lgbm           138.11          54.25   \n",
       "0            Linear Regression           138.13          54.23   \n",
       "9             BaggingRegressor           138.71          53.85   \n",
       "12             VotingRegressor           138.80          53.79   \n",
       "4   Stochastic Gradient Decent           139.74          53.16   \n",
       "2                   Linear SVR           144.04          50.23   \n",
       "1      Support Vector Machines           145.53          49.20   \n",
       "6                Random Forest           152.64          44.11   \n",
       "5      Decision Tree Regressor           152.77          44.02   \n",
       "7    GradientBoostingRegressor           152.77          44.02   \n",
       "11           AdaBoostRegressor           158.50          39.74   \n",
       "10         ExtraTreesRegressor           160.66          38.09   \n",
       "3                 MLPRegressor           169.09          31.42   \n",
       "8               RidgeRegressor           179.37          22.83   \n",
       "\n",
       "    Train time - ms  validation time -ms  \n",
       "13         0.942051               6.4211  \n",
       "0          1.685100               0.7021  \n",
       "9         71.273100               0.7312  \n",
       "12        65.920100               2.1267  \n",
       "4          2.973800               1.4708  \n",
       "2          1.604800               0.9143  \n",
       "1          2.449800               1.7459  \n",
       "6         27.589100               5.7738  \n",
       "5          2.316000               0.9620  \n",
       "7      11071.092800               0.8881  \n",
       "11        78.393700               7.2422  \n",
       "10       123.261200              12.3742  \n",
       "3      44041.072800               1.0562  \n",
       "8        286.677100               1.7142  "
      ]
     },
     "execution_count": 49,
     "metadata": {},
     "output_type": "execute_result"
    }
   ],
   "source": [
    "Results.sort_values(by=['rmse_validation'], ascending=True)"
   ]
  },
  {
   "cell_type": "code",
   "execution_count": 50,
   "metadata": {},
   "outputs": [
    {
     "data": {
      "text/html": [
       "<div>\n",
       "<style scoped>\n",
       "    .dataframe tbody tr th:only-of-type {\n",
       "        vertical-align: middle;\n",
       "    }\n",
       "\n",
       "    .dataframe tbody tr th {\n",
       "        vertical-align: top;\n",
       "    }\n",
       "\n",
       "    .dataframe thead th {\n",
       "        text-align: right;\n",
       "    }\n",
       "</style>\n",
       "<table border=\"1\" class=\"dataframe\">\n",
       "  <thead>\n",
       "    <tr style=\"text-align: right;\">\n",
       "      <th></th>\n",
       "      <th>Model</th>\n",
       "      <th>rmse_validation</th>\n",
       "      <th>r2_validation</th>\n",
       "      <th>Train time - ms</th>\n",
       "      <th>validation time -ms</th>\n",
       "    </tr>\n",
       "  </thead>\n",
       "  <tbody>\n",
       "    <tr>\n",
       "      <th>13</th>\n",
       "      <td>lgbm</td>\n",
       "      <td>138.11</td>\n",
       "      <td>54.25</td>\n",
       "      <td>0.942051</td>\n",
       "      <td>6.4211</td>\n",
       "    </tr>\n",
       "    <tr>\n",
       "      <th>2</th>\n",
       "      <td>Linear SVR</td>\n",
       "      <td>144.04</td>\n",
       "      <td>50.23</td>\n",
       "      <td>1.604800</td>\n",
       "      <td>0.9143</td>\n",
       "    </tr>\n",
       "    <tr>\n",
       "      <th>0</th>\n",
       "      <td>Linear Regression</td>\n",
       "      <td>138.13</td>\n",
       "      <td>54.23</td>\n",
       "      <td>1.685100</td>\n",
       "      <td>0.7021</td>\n",
       "    </tr>\n",
       "    <tr>\n",
       "      <th>5</th>\n",
       "      <td>Decision Tree Regressor</td>\n",
       "      <td>152.77</td>\n",
       "      <td>44.02</td>\n",
       "      <td>2.316000</td>\n",
       "      <td>0.9620</td>\n",
       "    </tr>\n",
       "    <tr>\n",
       "      <th>1</th>\n",
       "      <td>Support Vector Machines</td>\n",
       "      <td>145.53</td>\n",
       "      <td>49.20</td>\n",
       "      <td>2.449800</td>\n",
       "      <td>1.7459</td>\n",
       "    </tr>\n",
       "    <tr>\n",
       "      <th>4</th>\n",
       "      <td>Stochastic Gradient Decent</td>\n",
       "      <td>139.74</td>\n",
       "      <td>53.16</td>\n",
       "      <td>2.973800</td>\n",
       "      <td>1.4708</td>\n",
       "    </tr>\n",
       "    <tr>\n",
       "      <th>6</th>\n",
       "      <td>Random Forest</td>\n",
       "      <td>152.64</td>\n",
       "      <td>44.11</td>\n",
       "      <td>27.589100</td>\n",
       "      <td>5.7738</td>\n",
       "    </tr>\n",
       "    <tr>\n",
       "      <th>12</th>\n",
       "      <td>VotingRegressor</td>\n",
       "      <td>138.80</td>\n",
       "      <td>53.79</td>\n",
       "      <td>65.920100</td>\n",
       "      <td>2.1267</td>\n",
       "    </tr>\n",
       "    <tr>\n",
       "      <th>9</th>\n",
       "      <td>BaggingRegressor</td>\n",
       "      <td>138.71</td>\n",
       "      <td>53.85</td>\n",
       "      <td>71.273100</td>\n",
       "      <td>0.7312</td>\n",
       "    </tr>\n",
       "    <tr>\n",
       "      <th>11</th>\n",
       "      <td>AdaBoostRegressor</td>\n",
       "      <td>158.50</td>\n",
       "      <td>39.74</td>\n",
       "      <td>78.393700</td>\n",
       "      <td>7.2422</td>\n",
       "    </tr>\n",
       "    <tr>\n",
       "      <th>10</th>\n",
       "      <td>ExtraTreesRegressor</td>\n",
       "      <td>160.66</td>\n",
       "      <td>38.09</td>\n",
       "      <td>123.261200</td>\n",
       "      <td>12.3742</td>\n",
       "    </tr>\n",
       "    <tr>\n",
       "      <th>8</th>\n",
       "      <td>RidgeRegressor</td>\n",
       "      <td>179.37</td>\n",
       "      <td>22.83</td>\n",
       "      <td>286.677100</td>\n",
       "      <td>1.7142</td>\n",
       "    </tr>\n",
       "    <tr>\n",
       "      <th>7</th>\n",
       "      <td>GradientBoostingRegressor</td>\n",
       "      <td>152.77</td>\n",
       "      <td>44.02</td>\n",
       "      <td>11071.092800</td>\n",
       "      <td>0.8881</td>\n",
       "    </tr>\n",
       "    <tr>\n",
       "      <th>3</th>\n",
       "      <td>MLPRegressor</td>\n",
       "      <td>169.09</td>\n",
       "      <td>31.42</td>\n",
       "      <td>44041.072800</td>\n",
       "      <td>1.0562</td>\n",
       "    </tr>\n",
       "  </tbody>\n",
       "</table>\n",
       "</div>"
      ],
      "text/plain": [
       "                         Model  rmse_validation  r2_validation  \\\n",
       "13                        lgbm           138.11          54.25   \n",
       "2                   Linear SVR           144.04          50.23   \n",
       "0            Linear Regression           138.13          54.23   \n",
       "5      Decision Tree Regressor           152.77          44.02   \n",
       "1      Support Vector Machines           145.53          49.20   \n",
       "4   Stochastic Gradient Decent           139.74          53.16   \n",
       "6                Random Forest           152.64          44.11   \n",
       "12             VotingRegressor           138.80          53.79   \n",
       "9             BaggingRegressor           138.71          53.85   \n",
       "11           AdaBoostRegressor           158.50          39.74   \n",
       "10         ExtraTreesRegressor           160.66          38.09   \n",
       "8               RidgeRegressor           179.37          22.83   \n",
       "7    GradientBoostingRegressor           152.77          44.02   \n",
       "3                 MLPRegressor           169.09          31.42   \n",
       "\n",
       "    Train time - ms  validation time -ms  \n",
       "13         0.942051               6.4211  \n",
       "2          1.604800               0.9143  \n",
       "0          1.685100               0.7021  \n",
       "5          2.316000               0.9620  \n",
       "1          2.449800               1.7459  \n",
       "4          2.973800               1.4708  \n",
       "6         27.589100               5.7738  \n",
       "12        65.920100               2.1267  \n",
       "9         71.273100               0.7312  \n",
       "11        78.393700               7.2422  \n",
       "10       123.261200              12.3742  \n",
       "8        286.677100               1.7142  \n",
       "7      11071.092800               0.8881  \n",
       "3      44041.072800               1.0562  "
      ]
     },
     "execution_count": 50,
     "metadata": {},
     "output_type": "execute_result"
    }
   ],
   "source": [
    "Results.sort_values(by=['Train time - ms'], ascending=True)"
   ]
  },
  {
   "cell_type": "code",
   "execution_count": 51,
   "metadata": {},
   "outputs": [
    {
     "data": {
      "image/png": "[encoded data removed]",
      "text/plain": [
       "<Figure size 1800x432 with 1 Axes>"
      ]
     },
     "metadata": {
      "needs_background": "light"
     },
     "output_type": "display_data"
    }
   ],
   "source": [
    "plt.figure(figsize=[25,6])\n",
    "xx = Results['Model']\n",
    "plt.tick_params(labelsize=14)\n",
    "plt.plot(xx, Results['rmse_validation'], label = 'rmse for validation set')\n",
    "\n",
    "plt.legend()\n",
    "#plt.title('RMSE for validation dataset')\n",
    "plt.xlabel('Models')\n",
    "plt.ylabel('RMSE x100')\n",
    "plt.xticks(xx, rotation='vertical')\n",
    "plt.savefig('graph.png')\n",
    "plt.show()"
   ]
  },
  {
   "cell_type": "code",
   "execution_count": null,
   "metadata": {},
   "outputs": [],
   "source": []
  },
  {
   "cell_type": "markdown",
   "metadata": {},
   "source": [
    "# the top 3 best models by rmse are :"
   ]
  },
  {
   "cell_type": "code",
   "execution_count": null,
   "metadata": {},
   "outputs": [],
   "source": []
  },
  {
   "cell_type": "code",
   "execution_count": null,
   "metadata": {},
   "outputs": [],
   "source": []
  }
 ],
 "metadata": {
  "kernelspec": {
   "display_name": "Python 3",
   "language": "python",
   "name": "python3"
  },
  "language_info": {
   "codemirror_mode": {
    "name": "ipython",
    "version": 3
   },
   "file_extension": ".py",
   "mimetype": "text/x-python",
   "name": "python",
   "nbconvert_exporter": "python",
   "pygments_lexer": "ipython3",
   "version": "3.7.3"
  }
 },
 "nbformat": 4,
 "nbformat_minor": 2
}
